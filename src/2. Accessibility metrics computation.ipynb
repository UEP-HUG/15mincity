{
 "cells": [
  {
   "cell_type": "markdown",
   "id": "0",
   "metadata": {},
   "source": [
    "# Accessibility metrics calculation"
   ]
  },
  {
   "cell_type": "markdown",
   "id": "1",
   "metadata": {},
   "source": [
    "## Import libraries"
   ]
  },
  {
   "cell_type": "code",
   "execution_count": null,
   "id": "2",
   "metadata": {},
   "outputs": [],
   "source": [
    "import pandana as pdna\n",
    "import osmnx as ox\n",
    "import networkx as nx\n",
    "import rasterio\n",
    "from rasterstats import zonal_stats, point_query\n",
    "import pandas as pd\n",
    "import geopandas as gpd\n",
    "import h3pandas\n",
    "from shapely.geometry import box\n",
    "from matplotlib.patheffects import withStroke\n",
    "import sys\n",
    "from shapely import wkb\n",
    "import os\n",
    "import libpysal as lps\n",
    "from sklearn.neighbors import KernelDensity\n",
    "from matplotlib.colors import LinearSegmentedColormap\n",
    "import numpy as np\n",
    "import geoplot\n",
    "import geoplot.crs as gcrs\n",
    "from scipy.spatial import cKDTree\n",
    "from libpysal.weights.distance import get_points_array"
   ]
  },
  {
   "cell_type": "code",
   "execution_count": null,
   "id": "3",
   "metadata": {},
   "outputs": [],
   "source": [
    "# Administrative boundaries\n",
    "lake = gpd.read_file('../data/input/lake_geneva.gpkg', engine = 'pyogrio')\n",
    "cantons = gpd.read_file('../data/input/swissBOUNDARIES3D_1_3_TLM_KANTONSGEBIET.gpkg', engine='pyogrio')\n",
    "communes = gpd.read_file('../data/input/swissBOUNDARIES3D_1_3_TLM_HOHEITSGEBIET.gpkg', engine='pyogrio')\n",
    "# Only retain communes that are in the canton of Geneva\n",
    "communes = communes[communes.KANTONSNUM == 25]\n",
    "\n",
    "cantons = cantons.to_crs(2056)\n",
    "communes = communes.to_crs(2056)\n",
    "communes_4326 = communes.to_crs(4326)\n",
    "canton_ge = cantons[cantons.NAME=='Genève']"
   ]
  },
  {
   "cell_type": "code",
   "execution_count": null,
   "id": "4",
   "metadata": {},
   "outputs": [],
   "source": [
    "place = \"Canton de Genève, CH\"\n",
    "\n",
    "# Get the geometry of the place\n",
    "gdf = ox.geocode_to_gdf(place)\n",
    "\n",
    "# Create a buffer around the geometry\n",
    "buffered_gdf = gdf.to_crs(epsg=2056).buffer(4000).to_crs(gdf.crs)\n",
    "buffered_gdf.plot()\n",
    "# plt.savefig('./results/canton_ge_buffered.png', dpi=80)\n",
    "buffered_gdf = buffered_gdf.to_crs(4326)\n",
    "# Get the bounding box of the buffered area\n",
    "bounds = buffered_gdf.total_bounds\n",
    "_bbox = box(*bounds)"
   ]
  },
  {
   "cell_type": "code",
   "execution_count": null,
   "id": "5",
   "metadata": {},
   "outputs": [],
   "source": [
    "# Extract the network using the buffered area\n",
    "G_buffered = ox.graph_from_polygon(_bbox, network_type='walk')"
   ]
  },
  {
   "cell_type": "code",
   "execution_count": null,
   "id": "6",
   "metadata": {},
   "outputs": [],
   "source": [
    "# impute speed on all edges missing data\n",
    "G_buffered = ox.add_edge_speeds(G_buffered)\n",
    "\n",
    "# calculate travel time (seconds) for all edges\n",
    "G_buffered = ox.add_edge_travel_times(G_buffered)"
   ]
  },
  {
   "cell_type": "markdown",
   "id": "7",
   "metadata": {},
   "source": [
    "### OSM POIs loading"
   ]
  },
  {
   "cell_type": "code",
   "execution_count": null,
   "id": "8",
   "metadata": {},
   "outputs": [],
   "source": [
    "# Function to properly load a GeoDataFrame from parquet\n",
    "def load_geodataframe(file_path):\n",
    "    try:\n",
    "        # Read parquet file\n",
    "        df = pd.read_parquet(file_path)\n",
    "        \n",
    "        # Check if geometry is in WKB format and convert if needed\n",
    "        if 'geometry' in df.columns and isinstance(df['geometry'].iloc[0], bytes):\n",
    "            df['geometry'] = df['geometry'].apply(lambda x: wkb.loads(x) if isinstance(x, bytes) else x)\n",
    "        \n",
    "        # Convert to GeoDataFrame\n",
    "        gdf = gpd.GeoDataFrame(df, crs=4326, geometry='geometry')\n",
    "        \n",
    "        print(f\"Successfully loaded {file_path}\")\n",
    "        return gdf\n",
    "    \n",
    "    except Exception as e:\n",
    "        print(f\"Error loading {file_path}: {e}\")\n",
    "        return None"
   ]
  },
  {
   "cell_type": "code",
   "execution_count": null,
   "id": "9",
   "metadata": {},
   "outputs": [],
   "source": [
    "# Define the categories of POIs\n",
    "categories = ['physical', 'culture', 'education', 'healthcare', \n",
    "              'services', 'transport', 'outdoor', 'supplies', 'restaurant']\n",
    "\n",
    "# Define the data directory\n",
    "data_dir = '../data/output/'\n",
    "\n",
    "# Dictionary to store each category's GeoDataFrame\n",
    "gdfs = {}\n",
    "\n",
    "# Load each processed GeoDataFrame\n",
    "for category in categories:\n",
    "    file_path = os.path.join(data_dir, f'processed_osm_{category}_pois.parquet')\n",
    "    gdf = load_geodataframe(file_path)\n",
    "    if gdf is not None:\n",
    "        gdfs[category] = gdf"
   ]
  },
  {
   "cell_type": "code",
   "execution_count": null,
   "id": "10",
   "metadata": {},
   "outputs": [],
   "source": [
    "# Also load the combined dataset if it exists\n",
    "combined_file_path = os.path.join(data_dir, 'processed_osm_all_pois.parquet')\n",
    "if os.path.exists(combined_file_path):\n",
    "    all_pois_gdf = load_geodataframe(combined_file_path)\n",
    "else:\n",
    "    all_pois_gdf = None\n",
    "    print(\"Combined dataset not found\")\n",
    "\n",
    "# Print summary statistics for each category\n",
    "print(\"\\nSummary Statistics:\")\n",
    "print(\"-\" * 50)\n",
    "for category, gdf in gdfs.items():\n",
    "    print(f\"\\n{category.capitalize()} POIs:\")\n",
    "    print(f\"  Total count: {len(gdf)}\")\n",
    "    print(f\"  Subcategories:\")\n",
    "    \n",
    "    # Count POIs by subcategory\n",
    "    subcat_counts = gdf['subcategory'].value_counts()\n",
    "    for subcat, count in subcat_counts.items():\n",
    "        print(f\"    - {subcat}: {count}\")"
   ]
  },
  {
   "cell_type": "code",
   "execution_count": null,
   "id": "11",
   "metadata": {},
   "outputs": [],
   "source": [
    "bbox = gpd.GeoDataFrame(geometry=[_bbox], crs=4326)\n",
    "bbox_2056 = bbox.to_crs(2056)\n",
    "bbox_2056 = bbox_2056.geometry.iloc[0]"
   ]
  },
  {
   "cell_type": "code",
   "execution_count": null,
   "id": "12",
   "metadata": {},
   "outputs": [],
   "source": [
    "# Get the bounding box of the buffered area\n",
    "bounds_ge = canton_ge.to_crs(2056).total_bounds\n",
    "_bbox_ge = box(*bounds_ge)\n",
    "\n",
    "bbox_ge = gpd.GeoDataFrame(geometry=[_bbox_ge], crs=4326)\n",
    "bbox_ge_2056 = bbox_ge.to_crs(2056)\n",
    "bbox_ge_2056 = bbox_ge_2056.geometry.iloc[0]"
   ]
  },
  {
   "cell_type": "code",
   "execution_count": null,
   "id": "13",
   "metadata": {},
   "outputs": [],
   "source": [
    "gdfs_bbox = {}  # Will store the filtered GeoDataFrames\n",
    "\n",
    "for category in categories:\n",
    "    print('category')\n",
    "    gdf = gdfs[category].copy()\n",
    "    \n",
    "    # Apply the three operations\n",
    "    # 1. Filter by bounding box\n",
    "    gdf_bbox = gdf[gdf.geometry.within(bbox_2056)]\n",
    "    \n",
    "    # 2. Add a quantity column\n",
    "    gdf_bbox['quantity'] = 1\n",
    "    \n",
    "    # Store the result\n",
    "    gdfs_bbox[category] = gdf_bbox\n",
    "    \n",
    "    # Print summary\n",
    "    print(f\"{category.capitalize()}: {len(gdf)} total POIs, {len(gdf_bbox)} within bbox\")"
   ]
  },
  {
   "cell_type": "markdown",
   "id": "14",
   "metadata": {},
   "source": [
    "## Accessibility measures "
   ]
  },
  {
   "cell_type": "code",
   "execution_count": null,
   "id": "15",
   "metadata": {},
   "outputs": [],
   "source": [
    "gdf_nodes, gdf_edges = ox.graph_to_gdfs(G_buffered)\n",
    "gdf_edges = gdf_edges.reset_index()\n",
    "\n",
    "# Get nearest 20 POIs (fitness center) at max 5km\n",
    "net=pdna.Network(gdf_nodes[\"x\"], gdf_nodes[\"y\"], gdf_edges[\"u\"], gdf_edges[\"v\"],\n",
    "                 gdf_edges[[\"length\"]])\n",
    "net.precompute(6500)"
   ]
  },
  {
   "cell_type": "markdown",
   "id": "16",
   "metadata": {},
   "source": [
    "## All categories"
   ]
  },
  {
   "cell_type": "code",
   "execution_count": null,
   "id": "17",
   "metadata": {},
   "outputs": [],
   "source": [
    "# Calculate proximity metrics for all categories\n",
    "h3_results = {}\n",
    "categories = list(gdfs_bbox.keys())\n",
    "\n",
    "for category in categories:\n",
    "    print(f\"Processing {category}...\")\n",
    "    \n",
    "    # Skip if empty\n",
    "    if len(gdfs_bbox[category]) == 0:\n",
    "        print(f\"  No POIs in {category} category. Skipping.\")\n",
    "        continue\n",
    "    \n",
    "    # Set POIs for this category\n",
    "    net.set_pois(\n",
    "        category=category,\n",
    "        maxdist=6500,\n",
    "        maxitems=len(gdfs_bbox[category]),\n",
    "        x_col=gdfs_bbox[category]['lon'],\n",
    "        y_col=gdfs_bbox[category]['lat']\n",
    "    )\n",
    "    \n",
    "    # Get distances and convert to minutes\n",
    "    nearest_20_pois = net.nearest_pois(6500, category, num_pois=20)\n",
    "    nearest_20_pois_time = nearest_20_pois / 75  # 4.5 km/h (default walking speed) = 75 m/min\n",
    "    \n",
    "    # Merge with nodes\n",
    "    gdf_nearest = pd.merge(gdf_nodes, nearest_20_pois_time, left_index=True, right_index=True)\n",
    "    \n",
    "    # Create metrics\n",
    "    gdf_nearest[f'time_to_5th_{category}'] = gdf_nearest[5]\n",
    "    gdf_nearest[f'time_to_10th_{category}'] = gdf_nearest[10]\n",
    "    gdf_nearest[f'time_to_20th_{category}'] = gdf_nearest[20]\n",
    "    \n",
    "    # Prepare columns for H3 aggregation\n",
    "    h3_columns = [f'time_to_5th_{category}', f'time_to_10th_{category}', \n",
    "                 f'time_to_20th_{category}', 'geometry']\n",
    "    \n",
    "    # Aggregate to H3 cells\n",
    "    h3_cells = gdf_nearest[h3_columns].h3.geo_to_h3_aggregate(resolution=10, operation='mean')\n",
    "    h3_results[category] = h3_cells\n",
    "    \n",
    "    print(f\"  Done with {category}\")"
   ]
  },
  {
   "cell_type": "code",
   "execution_count": null,
   "id": "18",
   "metadata": {},
   "outputs": [],
   "source": [
    "# Merge all H3 results\n",
    "if h3_results:\n",
    "    # Start with first category's results\n",
    "    merged_h3 = h3_results[categories[0]]\n",
    "    \n",
    "    # Merge with all other categories\n",
    "    for category in categories[1:]:\n",
    "        if category in h3_results:\n",
    "            merged_h3 = merged_h3.merge(h3_results[category].drop(['geometry'],axis=1), left_index=True, right_index=True, how='outer')\n",
    "    \n",
    "    # Calculate 15-minute city score\n",
    "    for category in categories:\n",
    "        if f'time_to_20th_{category}' in merged_h3.columns:\n",
    "            merged_h3[f'score_{category}'] = np.maximum(0, 1 - (merged_h3[f'time_to_20th_{category}'] / 15))\n",
    "    \n",
    "    score_cols = [f'score_{category}' for category in categories if f'score_{category}' in merged_h3.columns]\n",
    "    pt_cols = [f'time_to_20th_{category}' for category in categories if f'time_to_20th_{category}' in merged_h3.columns]\n",
    "    pt_PA_cols = ['time_to_20th_physical','time_to_20th_outdoor', 'time_to_20th_transport']\n",
    "\n",
    "    if score_cols:\n",
    "        merged_h3['overall_15min_city_score'] = merged_h3[score_cols].mean(axis=1)\n",
    "        merged_h3['overall_15min_city_proximity_time'] = merged_h3[pt_cols].mean(axis=1)\n",
    "        merged_h3['overall_15min_city_pa_proximity_time'] = merged_h3[pt_PA_cols].mean(axis=1)\n",
    "\n",
    "    # Save results\n",
    "    merged_h3.to_parquet('../data/output/h3_accessibility_metrics.parquet')\n",
    "    print(\"Saved accessibility metrics to h3_accessibility_metrics.parquet\")"
   ]
  },
  {
   "cell_type": "markdown",
   "id": "19",
   "metadata": {},
   "source": [
    "## Load Données SITG Population Grand-Genève (200m)"
   ]
  },
  {
   "cell_type": "code",
   "execution_count": null,
   "id": "20",
   "metadata": {},
   "outputs": [],
   "source": [
    "gdf_sitg_pop_grand_ge = gpd.read_file('../data/input/GML_AGGLO_CARREAU_200/AGGLO_CARREAU_200.gml')"
   ]
  },
  {
   "cell_type": "code",
   "execution_count": null,
   "id": "21",
   "metadata": {},
   "outputs": [],
   "source": [
    "gdf_sitg_pop_grand_ge_bbox = gdf_sitg_pop_grand_ge[gdf_sitg_pop_grand_ge.geometry.within(bbox_2056)]"
   ]
  },
  {
   "cell_type": "markdown",
   "id": "22",
   "metadata": {},
   "source": [
    "### Population reachable in 15min - SITG"
   ]
  },
  {
   "cell_type": "code",
   "execution_count": null,
   "id": "23",
   "metadata": {},
   "outputs": [],
   "source": [
    "x, y = gdf_sitg_pop_grand_ge_bbox.geometry.to_crs(4326).centroid.x, gdf_sitg_pop_grand_ge_bbox.geometry.to_crs(4326).centroid.y\n",
    "\n",
    "gdf_sitg_pop_grand_ge_bbox[\"node_ids\"] = net.get_node_ids(x, y)\n",
    "net.set(gdf_sitg_pop_grand_ge_bbox[\"node_ids\"], variable=gdf_sitg_pop_grand_ge_bbox['POP_TOT_GG_2019'], name=\"pop_sitg\")\n",
    "# 15min walking at 4.5km/h = 1125m\n",
    "density15min_sitg = net.aggregate(1125, type=\"sum\", decay=\"linear\", name=\"pop_sitg\")"
   ]
  },
  {
   "cell_type": "code",
   "execution_count": null,
   "id": "24",
   "metadata": {},
   "outputs": [],
   "source": [
    "gdf_sitg_pop_grand_ge_bbox_centroid = gdf_sitg_pop_grand_ge_bbox.copy()\n",
    "gdf_sitg_pop_grand_ge_bbox_centroid['geometry'] = gdf_sitg_pop_grand_ge_bbox.geometry.centroid.to_crs(4326)"
   ]
  },
  {
   "cell_type": "code",
   "execution_count": null,
   "id": "25",
   "metadata": {},
   "outputs": [],
   "source": [
    "h3_cells_population = gdf_sitg_pop_grand_ge_bbox_centroid[['POP_TOT_GG_2019','geometry']].h3.geo_to_h3_aggregate(resolution=10, operation='mean')"
   ]
  },
  {
   "cell_type": "code",
   "execution_count": null,
   "id": "26",
   "metadata": {},
   "outputs": [],
   "source": [
    "gdf_nodes = pd.merge(gdf_nodes, pd.DataFrame(density15min_sitg, columns = ['15min_population_sitg']), left_index=True, right_index=True)"
   ]
  },
  {
   "cell_type": "code",
   "execution_count": null,
   "id": "27",
   "metadata": {},
   "outputs": [],
   "source": [
    "net.plot(density15min_sitg,\n",
    "         fig_kwargs={'figsize': [8, 8]},\n",
    "         plot_kwargs={'cmap': 'BrBG', 's': 8, 'edgecolor': 'none'})"
   ]
  },
  {
   "cell_type": "code",
   "execution_count": null,
   "id": "28",
   "metadata": {},
   "outputs": [],
   "source": [
    "h3_cells_population_access = gdf_nodes[['15min_population_sitg','geometry']].h3.geo_to_h3_aggregate(resolution=10, operation='mean')"
   ]
  },
  {
   "cell_type": "code",
   "execution_count": null,
   "id": "29",
   "metadata": {},
   "outputs": [],
   "source": [
    "h3_cells_population_access['perc_15min_population_sitg'] = (h3_cells_population_access['15min_population_sitg']/gdf_sitg_pop_grand_ge_bbox['POP_TOT_GG_2019'].sum())*100"
   ]
  },
  {
   "cell_type": "code",
   "execution_count": null,
   "id": "30",
   "metadata": {},
   "outputs": [],
   "source": [
    "h3_cells_population = h3_cells_population.reset_index()"
   ]
  },
  {
   "cell_type": "code",
   "execution_count": null,
   "id": "31",
   "metadata": {},
   "outputs": [],
   "source": [
    "_h3_cells_population_access = pd.merge(h3_cells_population_access, h3_cells_population[['POP_TOT_GG_2019']], left_index=True, right_index=True, how = 'left')"
   ]
  },
  {
   "cell_type": "code",
   "execution_count": null,
   "id": "32",
   "metadata": {},
   "outputs": [],
   "source": [
    "_h3_cells_population_access[_h3_cells_population_access.POP_TOT_GG_2019.isnull() == False].POP_TOT_GG_2019.sum()"
   ]
  },
  {
   "cell_type": "code",
   "execution_count": null,
   "id": "33",
   "metadata": {},
   "outputs": [],
   "source": [
    "h3_cells_population_access.plot('15min_population_sitg', legend=True)"
   ]
  },
  {
   "cell_type": "code",
   "execution_count": null,
   "id": "34",
   "metadata": {},
   "outputs": [],
   "source": [
    "merged_h3_pop = pd.merge(merged_h3, h3_cells_population_access.drop('geometry',axis=1), left_index = True, right_index=True)"
   ]
  },
  {
   "cell_type": "markdown",
   "id": "35",
   "metadata": {},
   "source": [
    "## Dual access"
   ]
  },
  {
   "cell_type": "code",
   "execution_count": null,
   "id": "36",
   "metadata": {},
   "outputs": [],
   "source": [
    "import matplotlib.pyplot as plt\n",
    "from matplotlib.colors import LinearSegmentedColormap, Normalize"
   ]
  },
  {
   "cell_type": "code",
   "execution_count": null,
   "id": "37",
   "metadata": {},
   "outputs": [],
   "source": [
    "# Create custom colormap\n",
    "colors_list = ['darkblue', 'lightblue', '#f7f7f7', '#f4a582', 'darkred']\n",
    "custom_cmap = LinearSegmentedColormap.from_list('custom', colors_list)\n",
    "\n",
    "# Create normalization that caps values at 30\n",
    "norm = Normalize(vmin=0, vmax=30)"
   ]
  },
  {
   "cell_type": "code",
   "execution_count": null,
   "id": "38",
   "metadata": {},
   "outputs": [],
   "source": [
    "# Restrict accessibility measures to the canton of geneva\n",
    "merged_h3_ge = merged_h3_pop[merged_h3_pop.within(canton_ge.to_crs(4326).geometry.unary_union)]"
   ]
  },
  {
   "cell_type": "code",
   "execution_count": null,
   "id": "39",
   "metadata": {},
   "outputs": [],
   "source": [
    "# Save results\n",
    "merged_h3_ge.to_parquet('../data/output/h3_accessibility_metrics_ge_final.parquet')\n",
    "print(\"Saved accessibility metrics to h3_accessibility_metrics_ge_final.parquet\")"
   ]
  },
  {
   "cell_type": "code",
   "execution_count": null,
   "id": "40",
   "metadata": {},
   "outputs": [],
   "source": [
    "# Read results\n",
    "merged_h3_ge = gpd.read_parquet('../data/h3_accessibility_metrics_ge_final.parquet')\n",
    "print(\"Read accessibility metrics to h3_accessibility_metrics_ge_final.parquet\")"
   ]
  },
  {
   "cell_type": "markdown",
   "id": "41",
   "metadata": {},
   "source": [
    "### Proximity time maps"
   ]
  },
  {
   "cell_type": "code",
   "execution_count": null,
   "id": "42",
   "metadata": {},
   "outputs": [],
   "source": [
    "def plot_accessibility(merged_h3, col, category, communes, lake, canton, custom_cmap, norm,\n",
    "                       output_dir='../results/Accessibility maps/', show_pois=False, pois_data=None):\n",
    "    \"\"\"\n",
    "    Create accessibility map for a specific category.\n",
    "    \n",
    "    Parameters:\n",
    "    -----------\n",
    "    merged_h3 : GeoDataFrame\n",
    "        H3 cells with accessibility metrics\n",
    "    category : str\n",
    "        Category name (e.g., 'physical', 'education')\n",
    "    communes, lake, canton : GeoDataFrame\n",
    "        Background map features\n",
    "    custom_cmap, norm : matplotlib colormap and normalization\n",
    "    output_dir : str\n",
    "        Directory to save the output files\n",
    "    show_pois : bool\n",
    "        Whether to show the POIs on the map\n",
    "    pois_data : GeoDataFrame\n",
    "        POIs data to plot (if show_pois is True)\n",
    "    \"\"\"\n",
    "    import matplotlib.pyplot as plt\n",
    "    from matplotlib.patheffects import withStroke\n",
    "    import os\n",
    "    \n",
    "    # Create figure\n",
    "    fig, ax = plt.subplots(figsize=(12, 12))\n",
    "    \n",
    "    # Plot H3 cells with accessibility metric\n",
    "    column = f'{col}{category}'\n",
    "    merged_h3.plot(column, cmap=custom_cmap, norm=norm, zorder=5,\n",
    "                  legend_kwds={'label': f'Proximity time - {category.capitalize()} [min]',\n",
    "                              'shrink': 0.3},\n",
    "                  legend=True, ax=ax)\n",
    "    \n",
    "    # Add commune labels\n",
    "    for x, y, label in zip(communes.geometry.centroid.x, communes.geometry.centroid.y, communes['NAME']):\n",
    "        ax.text(x, y, label, fontsize=5, ha='right', va='bottom',\n",
    "                path_effects=[withStroke(linewidth=1, foreground='white')], zorder=8)\n",
    "    \n",
    "    # Plot POIs if requested\n",
    "    if show_pois and pois_data is not None:\n",
    "        pois_data.plot(markersize=3, alpha=0.5, color='orange', ax=ax)\n",
    "    \n",
    "    # Add background map elements\n",
    "    lake.plot(color='lightgrey', zorder=3, ax=ax)\n",
    "    canton.geometry.boundary.plot(color='grey', ax=ax)\n",
    "    communes.geometry.plot(color='grey', zorder=2, linewidth=0.5, ax=ax)\n",
    "    \n",
    "    # Set plot style\n",
    "    ax.set_axis_off()\n",
    "    \n",
    "    # Save figure\n",
    "    os.makedirs(output_dir, exist_ok=True)\n",
    "    plt.savefig(f'{output_dir}/{col}{category}.png', dpi=360, bbox_inches='tight')\n",
    "    plt.close()\n",
    "    \n",
    "    print(f\"Plot for {category} saved to {output_dir}/map_20th_{category}_2025.png\")"
   ]
  },
  {
   "cell_type": "code",
   "execution_count": null,
   "id": "43",
   "metadata": {},
   "outputs": [],
   "source": [
    "for category in categories:\n",
    "    if f'time_to_20th_{category}' in merged_h3_ge.columns:\n",
    "        plot_accessibility(\n",
    "            merged_h3_ge,  # Your H3 data in 4326 projection\n",
    "            'time_to_20th_',\n",
    "            category,\n",
    "            communes_4326,\n",
    "            lake.to_crs(4326),\n",
    "            canton_ge.to_crs(4326),\n",
    "            custom_cmap,\n",
    "            norm\n",
    "        )"
   ]
  },
  {
   "cell_type": "markdown",
   "id": "44",
   "metadata": {},
   "source": [
    "## Combined accessibility"
   ]
  },
  {
   "cell_type": "code",
   "execution_count": null,
   "id": "45",
   "metadata": {},
   "outputs": [],
   "source": [
    "plot_accessibility(\n",
    "            merged_h3_ge,  # Your H3 data in 4326 projection\n",
    "            'overall_15min_city_proximity_time',\n",
    "            '',\n",
    "            communes_4326,\n",
    "            lake.to_crs(4326),\n",
    "            canton_ge.to_crs(4326),\n",
    "            custom_cmap,\n",
    "            norm\n",
    "        )"
   ]
  },
  {
   "cell_type": "code",
   "execution_count": null,
   "id": "46",
   "metadata": {},
   "outputs": [],
   "source": [
    "plot_accessibility(\n",
    "            merged_h3_ge,  # Your H3 data in 4326 projection\n",
    "            'overall_15min_city_pa_proximity_time',\n",
    "            '',\n",
    "            communes_4326,\n",
    "            lake.to_crs(4326),\n",
    "            canton_ge.to_crs(4326),\n",
    "            custom_cmap,\n",
    "            norm\n",
    "        )"
   ]
  },
  {
   "cell_type": "code",
   "execution_count": null,
   "id": "47",
   "metadata": {},
   "outputs": [],
   "source": [
    "gdf_1200_final_urban = pd.read_csv('../data/confidential/gdf_final_1200_urban.csv')\n",
    "gdf_1200_final_urban = gpd.GeoDataFrame(gdf_1200_final_urban,crs=2056, geometry = gpd.points_from_xy(gdf_1200_final_urban.E, gdf_1200_final_urban.N) )"
   ]
  },
  {
   "cell_type": "code",
   "execution_count": null,
   "id": "48",
   "metadata": {},
   "outputs": [],
   "source": [
    "# ax = test_ge_wpop.plot('proximity_time_all', cmap=custom_cmap, norm=norm, zorder=5, legend_kwds = {'label':'Proximity time - All [min]','shrink':0.3}, figsize=(12,12), legend=True)\n",
    "ax = gdf_1200_final_urban.to_crs(4326).plot('overall_15min_city_proximity_time', alpha=0.6, zorder=6, markersize = 3, cmap=custom_cmap, norm=norm, legend_kwds = {'label':'Proximity time - All [min]','shrink':0.3}, figsize=(12,12), legend=True)\n",
    "for x, y, label in zip(communes_4326.geometry.centroid.x, communes_4326.geometry.centroid.y, communes_4326['NAME']):\n",
    "    ax.text(x, y, label, fontsize=5, ha='right', va='bottom',\n",
    "            path_effects=[withStroke(linewidth=3, foreground='white')], zorder=8)\n",
    "# ax.set_title('A', loc = 'left', size= 16)\n",
    "ax.set_axis_off()  # Hide axes\n",
    "# outdoor_pois.plot(markersize = 3, alpha = 0.5, color='orange',ax=ax)\n",
    "# geoplot.kdeplot(outdoor_pois, n_levels=10, alpha=0.6, fill=False, cmap='Reds', ax=ax)\n",
    "lake.to_crs(4326).plot(color='lightgrey', zorder=3, ax=ax)\n",
    "canton_ge.to_crs(4326).geometry.boundary.plot(color='grey', ax=ax)\n",
    "communes.to_crs(4326).geometry.boundary.plot(color='lightgrey',zorder=1, linewidth=1, ax=ax)\n",
    "# communes_urban.dissolve('DATUM_ERST').to_crs(4326).geometry.plot(color='grey',zorder=2, linewidth=0.5, ax=ax)\n",
    "plt.savefig('../results/map_20th_all_with_busparticipants_test.png', dpi=360, bbox_inches='tight')"
   ]
  }
 ],
 "metadata": {
  "kernelspec": {
   "display_name": "Python 3.11",
   "language": "python",
   "name": "py311"
  },
  "language_info": {
   "codemirror_mode": {
    "name": "ipython",
    "version": 3
   },
   "file_extension": ".py",
   "mimetype": "text/x-python",
   "name": "python",
   "nbconvert_exporter": "python",
   "pygments_lexer": "ipython3",
   "version": "3.11.12"
  }
 },
 "nbformat": 4,
 "nbformat_minor": 5
}
