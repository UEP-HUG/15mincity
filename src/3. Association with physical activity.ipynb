{
 "cells": [
  {
   "cell_type": "markdown",
   "id": "0",
   "metadata": {},
   "source": [
    "# Merge accessibility and physical activity data"
   ]
  },
  {
   "cell_type": "code",
   "execution_count": null,
   "id": "1",
   "metadata": {},
   "outputs": [],
   "source": [
    "# Standard Library\n",
    "import sys\n",
    "import time\n",
    "import pickle\n",
    "from pathlib import Path\n",
    "\n",
    "# Scientific Computing & Data Analysis\n",
    "import numpy as np\n",
    "import pandas as pd\n",
    "import scipy.sparse as sparse\n",
    "from scipy import stats\n",
    "from scipy.spatial import cKDTree\n",
    "\n",
    "# Visualization\n",
    "import matplotlib.pyplot as plt\n",
    "import matplotlib.cm as cm\n",
    "from matplotlib.colors import LinearSegmentedColormap\n",
    "import seaborn as sns\n",
    "\n",
    "# Geospatial Analysis\n",
    "import geopandas as gpd\n",
    "import libpysal as lps\n",
    "from libpysal.weights.distance import get_points_array\n",
    "import esda\n",
    "\n",
    "# Machine Learning & Statistics\n",
    "from sklearn.preprocessing import StandardScaler\n",
    "from statsmodels.nonparametric.smoothers_lowess import lowess\n",
    "\n",
    "# File I/O\n",
    "import h5py\n",
    "\n",
    "# Local/Custom Modules\n",
    "sys.path.append('../../../Scripts/Spatial analyses')\n",
    "import pyspace"
   ]
  },
  {
   "cell_type": "code",
   "execution_count": null,
   "id": "2",
   "metadata": {},
   "outputs": [],
   "source": [
    "# Directory paths\n",
    "data_folder = Path('../data')\n",
    "results_folder = Path('../results/')\n",
    "\n",
    "# Create directories if they don't exist\n",
    "data_folder.mkdir(parents=True, exist_ok=True)\n",
    "results_folder.mkdir(parents=True, exist_ok=True)"
   ]
  },
  {
   "cell_type": "markdown",
   "id": "3",
   "metadata": {},
   "source": [
    "## Data sources\n",
    "### Load admin boundaries"
   ]
  },
  {
   "cell_type": "code",
   "execution_count": null,
   "id": "4",
   "metadata": {},
   "outputs": [],
   "source": [
    "# =============================================================================\n",
    "# GEOGRAPHIC DATA LOADING\n",
    "# =============================================================================\n",
    "\n",
    "# Load processed Geneva geographic data\n",
    "canton_ge_contour = gpd.read_file(data_folder / \"canton_gecontour.GeoJSON\", engine='pyogrio')\n",
    "canton_ge = gpd.read_file(data_folder / \"canton_ge.GeoJSON\", engine='pyogrio')\n",
    "communes_ge = gpd.read_file(data_folder / 'communes_ge.GeoJSON', engine='pyogrio')\n",
    "\n",
    "print(\"Geographic data loaded successfully\")"
   ]
  },
  {
   "cell_type": "markdown",
   "id": "5",
   "metadata": {},
   "source": [
    "### Load PA data"
   ]
  },
  {
   "cell_type": "markdown",
   "id": "6",
   "metadata": {},
   "source": [
    "#### All single metrics"
   ]
  },
  {
   "cell_type": "code",
   "execution_count": null,
   "id": "7",
   "metadata": {},
   "outputs": [],
   "source": [
    "df_full_pafq = pd.read_csv(data_folder/\"20250602_pafq_bus_1997_2024.csv\")"
   ]
  },
  {
   "cell_type": "code",
   "execution_count": null,
   "id": "8",
   "metadata": {},
   "outputs": [],
   "source": [
    "df_full_pafq = df_full_pafq[df_full_pafq.dtnumdoc < '2024-11-04'] # Restrict to data extraction date of analyses"
   ]
  },
  {
   "cell_type": "code",
   "execution_count": null,
   "id": "9",
   "metadata": {},
   "outputs": [],
   "source": [
    "df_full_pafq['codbar_new'] = df_full_pafq['codbar_new'].astype('string')\n",
    "df_full_pafq['codbar'] = df_full_pafq['codbar'].astype('string')"
   ]
  },
  {
   "cell_type": "code",
   "execution_count": null,
   "id": "10",
   "metadata": {},
   "outputs": [],
   "source": [
    "pro1_columns = [col for col in df_full_pafq.columns if 'pro1_' in col]"
   ]
  },
  {
   "cell_type": "markdown",
   "id": "11",
   "metadata": {},
   "source": [
    "#### Aggregated metrics "
   ]
  },
  {
   "cell_type": "code",
   "execution_count": null,
   "id": "12",
   "metadata": {},
   "outputs": [],
   "source": [
    "seden_pafq_ddr = pd.read_csv(data_folder/'20250602_summary_pafq_1997_2024.csv')\n",
    "seden_pafq_ddr.filter(regex='codbar').dtypes\n",
    "seden_pafq_ddr['codbar_new'] = seden_pafq_ddr['codbar_new'].astype('string')"
   ]
  },
  {
   "cell_type": "markdown",
   "id": "13",
   "metadata": {},
   "source": [
    "###  Bussante IDs"
   ]
  },
  {
   "cell_type": "code",
   "execution_count": null,
   "id": "14",
   "metadata": {},
   "outputs": [],
   "source": [
    "df_bussante_id = pd.read_csv(data_folder/'bussante_id_ddr_wrichard.csv', low_memory = 'False')\n",
    "df_bussante_id['codbar_richard'] = df_bussante_id['codbar_richard'].fillna(df_bussante_id['codbar'].astype('Int64').astype('string'))"
   ]
  },
  {
   "cell_type": "markdown",
   "id": "15",
   "metadata": {},
   "source": [
    "### Merge PAFQ-IDs"
   ]
  },
  {
   "cell_type": "code",
   "execution_count": null,
   "id": "16",
   "metadata": {},
   "outputs": [],
   "source": [
    "df_pafq_seden = pd.merge(df_bussante_id[['codbar_richard','x','y']], seden_pafq_ddr, left_on = 'codbar_richard', right_on = 'codbar_new')\n",
    "df_pafq_all = pd.merge(df_bussante_id[['codbar_richard','x','y']], df_full_pafq, left_on = 'codbar_richard', right_on = 'codbar_new')"
   ]
  },
  {
   "cell_type": "markdown",
   "id": "17",
   "metadata": {},
   "source": [
    "### Make geodataframes"
   ]
  },
  {
   "cell_type": "code",
   "execution_count": null,
   "id": "18",
   "metadata": {},
   "outputs": [],
   "source": [
    "gdf_pafq_seden = gpd.GeoDataFrame(df_pafq_seden, crs = 2056, geometry = gpd.points_from_xy(df_pafq_seden.x, df_pafq_seden.y))\n",
    "gdf_pafq_seden_ge = gdf_pafq_seden[gdf_pafq_seden.within(canton_ge.geometry.unary_union)]\n",
    "\n",
    "gdf_pafq_all = gpd.GeoDataFrame(df_pafq_all, crs = 2056, geometry = gpd.points_from_xy(df_pafq_all.x, df_pafq_all.y))\n",
    "gdf_pafq_all_ge = gdf_pafq_all[gdf_pafq_all.within(canton_ge.geometry.unary_union)]"
   ]
  },
  {
   "cell_type": "markdown",
   "id": "19",
   "metadata": {},
   "source": [
    "### Add health/SES indicators\n",
    "\n",
    "- Smoking\n",
    "- BMI\n",
    "- Education level\n",
    "- Occupation category\n",
    "- Country of birth"
   ]
  },
  {
   "cell_type": "markdown",
   "id": "20",
   "metadata": {},
   "source": [
    "### Define age groups"
   ]
  },
  {
   "cell_type": "code",
   "execution_count": null,
   "id": "21",
   "metadata": {},
   "outputs": [],
   "source": [
    "# Define bins and labels\n",
    "bins = [18, 35, 50, 65, 75, float('inf')]  # float('inf') for 80+\n",
    "labels = ['18-34', '35-49' , '50-64', '65-74', '75+']\n",
    "\n",
    "# Categorize ages using pd.cut\n",
    "gdf_pafq_all_ge['age_group'] = pd.cut(gdf_pafq_all_ge['age'], bins=bins, labels=labels)\n",
    "gdf_pafq_all_ge['age_group'] = gdf_pafq_all_ge['age_group'].astype('string')"
   ]
  },
  {
   "cell_type": "markdown",
   "id": "22",
   "metadata": {},
   "source": [
    "#### Filter out > 74"
   ]
  },
  {
   "cell_type": "code",
   "execution_count": null,
   "id": "23",
   "metadata": {},
   "outputs": [],
   "source": [
    "gdf_pafq_all_ge = gdf_pafq_all_ge[gdf_pafq_all_ge.age_group != '75+']"
   ]
  },
  {
   "cell_type": "markdown",
   "id": "24",
   "metadata": {},
   "source": [
    "### Rename columns"
   ]
  },
  {
   "cell_type": "code",
   "execution_count": null,
   "id": "25",
   "metadata": {},
   "outputs": [],
   "source": [
    "labels = {\n",
    "    'Perso':'Personal activities, standardized (min/day)',\n",
    "    'PAFQ_SE_raw': \"Sedentary, raw data, PAFQ (min/day)\",\n",
    "    'PAFQ_SE_pct': \"Sedentary, PAFQ (pct)\",\n",
    "    'PAFQ_LPA_raw': \"Light PA, raw data, PAFQ (min/day)\",\n",
    "    'PAFQ_LPA_pct': \"Light PA, PAFQ (pct)\",\n",
    "    'PAFQ_MPA_raw': \"Moderate PA, raw data, PAFQ (min/day)\",\n",
    "    'PAFQ_MPA_pct': \"Moderate PA, PAFQ (pct)\",\n",
    "    'PAFQ_VPA_raw': \"Vigorous PA, raw data, PAFQ (min/day)\",\n",
    "    'PAFQ_VPA_pct': \"Vigorous PA, PAFQ (pct)\",\n",
    "    'Work_se_pct': \"Work, sedentary, (% time)\",\n",
    "    'Work_li_pct': \"Work, light intensity, (% time)\",\n",
    "    'Work_mo_pct': \"Work, moderate intensity, (% time)\",\n",
    "    'Work_vi_pct': \"Work, vigorous intensity, (% time)\",\n",
    "    'Home_se_pct': \"Home, sedentary, (% time)\",\n",
    "    'Home_li_pct': \"Home, light intensity, (% time)\",\n",
    "    'Home_mo_pct': \"Home, moderate intensity, (% time)\",\n",
    "    'Home_vi_pct': \"Home, vigorous intensity, (% time)\",\n",
    "    'Work_se_raw': \"Work, sedentary, (min/day)\",\n",
    "    'Work_li_raw': \"Work, light intensity, (min/day)\",\n",
    "    'Work_mo_raw': \"Work, moderate intensity, (min/day)\",\n",
    "    'Work_vi_raw': \"Work, vigorous intensity, (min/day)\",\n",
    "    'Home_se_raw': \"Home, sedentary, (min/day)\",\n",
    "    'Home_li_raw': \"Home, light intensity, (min/day)\",\n",
    "    'Home_mo_raw': \"Home, moderate intensity, (min/day)\",\n",
    "    'Home_vi_raw': \"Home, vigorous intensity, (min/day)\",\n",
    "    'Work_se': \"Work, sedentary, standardized (min/day)\",\n",
    "    'Work_li': \"Work, light intensity, standardized (min/day)\",\n",
    "    'Work_mo': \"Work, moderate intensity, standardized (min/day)\",\n",
    "    'Work_vi': \"Work, vigorous intensity, standardized (min/day)\",\n",
    "    'Home_se': \"Home, sedentary, standardized (min/day)\",\n",
    "    'Home_li': \"Home, light intensity, standardized (min/day)\",\n",
    "    'Home_mo': \"Home, moderate intensity, standardized (min/day)\",\n",
    "    'Home_vi': \"Home, vigorous intensity, standardized (min/day)\",\n",
    "    'Sport_mo': \"Sport, moderate intensity, standardized (min/day)\",\n",
    "    'Sport_vi': \"Sport, vigorous intensity, standardized (min/day)\",\n",
    "    'PAFQ_SE': \"Sedentary, standardized data, PAFQ (min/day)\",\n",
    "    'PAFQ_LPA': \"Light PA, standardized data, PAFQ (min/day)\",\n",
    "    'PAFQ_MPA': \"Moderate PA, standardized data, PAFQ (min/day)\",\n",
    "    'PAFQ_VPA': \"Vigorous PA, standardized data, PAFQ (min/day)\",\n",
    "    'etj':'Total adjusted energy kcal/day',\n",
    "    'etsemns':'Total adjusted energy kcal/week (no sleep)',\n",
    "    'etsemtot': \"Total adjusted energy kcal/week (with sleep)\"\n",
    "}"
   ]
  },
  {
   "cell_type": "code",
   "execution_count": null,
   "id": "26",
   "metadata": {},
   "outputs": [],
   "source": [
    "gdf_pafq_all_ge = gdf_pafq_all_ge.rename(columns = labels)\n",
    "gdf_pafq_seden_ge = gdf_pafq_seden_ge.rename(columns = labels)"
   ]
  },
  {
   "cell_type": "markdown",
   "id": "27",
   "metadata": {},
   "source": [
    "## Load 15min accessibility indicators"
   ]
  },
  {
   "cell_type": "code",
   "execution_count": null,
   "id": "28",
   "metadata": {},
   "outputs": [],
   "source": [
    "# df_15min = gpd.read_file(data_folder/'15min_city'/'15min_indicators.gpkg')\n",
    "df_15min = gpd.read_parquet(data_folder/'h3_accessibility_metrics_ge_final.parquet')"
   ]
  },
  {
   "cell_type": "code",
   "execution_count": null,
   "id": "29",
   "metadata": {},
   "outputs": [],
   "source": [
    "df_15min.plot()"
   ]
  },
  {
   "cell_type": "markdown",
   "id": "30",
   "metadata": {},
   "source": [
    "## Create final PA-15min dataset"
   ]
  },
  {
   "cell_type": "code",
   "execution_count": null,
   "id": "31",
   "metadata": {},
   "outputs": [],
   "source": [
    "def get_season(date):\n",
    "    \"\"\"\n",
    "    Convert a date to its corresponding season.\n",
    "    \n",
    "    Parameters:\n",
    "    date (str or datetime): Date to convert\n",
    "    \n",
    "    Returns:\n",
    "    str: Season name (Winter, Spring, Summer, or Fall)\n",
    "    \"\"\"\n",
    "    # Convert string to datetime if necessary\n",
    "    if isinstance(date, str):\n",
    "        date = pd.to_datetime(date)\n",
    "    \n",
    "    # Get month from date\n",
    "    month = date.month\n",
    "    \n",
    "    # Define seasons\n",
    "    if month in [12, 1, 2]:\n",
    "        return 'Winter'\n",
    "    elif month in [3, 4, 5]:\n",
    "        return 'Spring'\n",
    "    elif month in [6, 7, 8]:\n",
    "        return 'Summer'\n",
    "    else:  # month in [9, 10, 11]\n",
    "        return 'Fall'\n",
    "\n",
    "# To apply to your series:\n",
    "gdf_pafq_all_ge['season'] = gdf_pafq_all_ge['dtnumdoc'].apply(get_season)"
   ]
  },
  {
   "cell_type": "code",
   "execution_count": null,
   "id": "32",
   "metadata": {},
   "outputs": [],
   "source": [
    "## Columns that are commented out contain ~ 9,000 NaNs values due to missing sleep data for the period (1997-2004)\n",
    "_gdf_pafq_p1 = gdf_pafq_all_ge[['codbar',\n",
    "                                'codbar_new',\n",
    "                                'sexe',\n",
    "                                'appointment_year',\n",
    "                                'dtnumdoc',\n",
    "                                'season',\n",
    "                                'age',\n",
    "                                'dtnaiss',\n",
    "                                'age_group',\n",
    "                                'mixed_weight',\n",
    "                                'mixed_height',\n",
    "                                'working_status',\n",
    "                                'mba_min',\n",
    "                                'sleep_time',\n",
    "                                'wake_time',\n",
    "                                'Sedentary, raw data, PAFQ (min/day)',\n",
    "                                'Light PA, raw data, PAFQ (min/day)',\n",
    "                                'Moderate PA, raw data, PAFQ (min/day)',\n",
    "                                'Vigorous PA, raw data, PAFQ (min/day)',\n",
    "                                \n",
    "                                'Sedentary, standardized data, PAFQ (min/day)',\n",
    "                                'Light PA, standardized data, PAFQ (min/day)',\n",
    "                                'Moderate PA, standardized data, PAFQ (min/day)',\n",
    "                                'Vigorous PA, standardized data, PAFQ (min/day)',\n",
    "                                \n",
    "                                'Sedentary, PAFQ (pct)',\n",
    "                                'Light PA, PAFQ (pct)',\n",
    "                                'Moderate PA, PAFQ (pct)',\n",
    "                                'Vigorous PA, PAFQ (pct)',\n",
    "                                \n",
    "                                'Work, sedentary, (min/day)',\n",
    "                                'Home, sedentary, (min/day)',\n",
    "                                'Work, light intensity, (min/day)',\n",
    "                                'Home, light intensity, (min/day)',\n",
    "                                'Work, moderate intensity, (min/day)',\n",
    "                                'Home, moderate intensity, (min/day)',\n",
    "                                'Work, vigorous intensity, (min/day)',\n",
    "                                'Home, vigorous intensity, (min/day)',\n",
    "\n",
    "                                'Work, sedentary, (% time)',\n",
    "                                'Home, sedentary, (% time)',\n",
    "                                'Work, light intensity, (% time)',\n",
    "                                'Home, light intensity, (% time)',\n",
    "                                'Work, moderate intensity, (% time)',\n",
    "                                'Home, moderate intensity, (% time)',\n",
    "                                'Work, vigorous intensity, (% time)',\n",
    "                                'Home, vigorous intensity, (% time)',\n",
    "\n",
    "                                'Work, sedentary, standardized (min/day)',\n",
    "                                'Home, sedentary, standardized (min/day)',\n",
    "                                'Work, light intensity, standardized (min/day)',\n",
    "                                'Home, light intensity, standardized (min/day)',\n",
    "                                'Work, moderate intensity, standardized (min/day)',\n",
    "                                'Home, moderate intensity, standardized (min/day)',\n",
    "                                'Work, vigorous intensity, standardized (min/day)',\n",
    "                                'Home, vigorous intensity, standardized (min/day)',\n",
    "                                'Mobility (commute & personal time), standardized (min/day)',\n",
    "                                'Leisure-time MVPA, standardized (min/day)',\n",
    "                                'Personal activities, standardized (min/day)',\n",
    "                                'Sport, moderate intensity, standardized (min/day)',\n",
    "                                'Sport, vigorous intensity, standardized (min/day)',\n",
    "                                ]]\n",
    "\n",
    "_gdf_pafq_p2 = gdf_pafq_seden_ge[['codbar','codbar_new','x','y','geometry','period','Total adjusted energy kcal/week (no sleep)','Total adjusted energy kcal/day','pafqttot','seden','seden_label']]"
   ]
  },
  {
   "cell_type": "code",
   "execution_count": null,
   "id": "33",
   "metadata": {},
   "outputs": [],
   "source": [
    "_gdf_pafq_p1.codbar_new.nunique()"
   ]
  },
  {
   "cell_type": "code",
   "execution_count": null,
   "id": "34",
   "metadata": {},
   "outputs": [],
   "source": [
    "gdf_pafq_final_ge = pd.merge(_gdf_pafq_p1.drop('codbar', axis=1), _gdf_pafq_p2.drop('codbar', axis=1), on = ['codbar_new'])"
   ]
  },
  {
   "cell_type": "markdown",
   "id": "35",
   "metadata": {},
   "source": [
    "### Compute BMI"
   ]
  },
  {
   "cell_type": "code",
   "execution_count": null,
   "id": "36",
   "metadata": {},
   "outputs": [],
   "source": [
    "def calculate_bmi(weight_kg, height_cm):\n",
    "    \"\"\"\n",
    "    Calculate BMI from weight (kg) and height (cm) and return both BMI and category.\n",
    "    \n",
    "    Parameters:\n",
    "    weight_kg (float): Weight in kilograms\n",
    "    height_cm (float): Height in centimeters\n",
    "    \n",
    "    Returns:\n",
    "    tuple: (BMI value, BMI category)\n",
    "    \"\"\"\n",
    "    # Input validation\n",
    "    if not isinstance(weight_kg, (int, float)) or not isinstance(height_cm, (int, float)):\n",
    "        return None, \"Invalid input\"\n",
    "    if weight_kg <= 0 or height_cm <= 0:\n",
    "        return None, \"Invalid input\"\n",
    "    if weight_kg > height_cm*0.9:\n",
    "        return None, None\n",
    "    \n",
    "    # Convert height to meters and calculate BMI\n",
    "    height_m = height_cm / 100\n",
    "    bmi = weight_kg / (height_m * height_m)\n",
    "    \n",
    "    # Round BMI to 1 decimal place\n",
    "    bmi = round(bmi, 1)\n",
    "\n",
    "    if bmi > 50:\n",
    "        return None, None\n",
    "    # Categorize BMI\n",
    "    if bmi < 12:\n",
    "        return None, None\n",
    "    elif bmi < 18.5:\n",
    "        category = \"Underweight\"\n",
    "    elif bmi < 25:\n",
    "        category = \"Normal weight\"\n",
    "    elif bmi < 30:\n",
    "        category = \"Overweight\"\n",
    "    else:\n",
    "        category = \"Obesity\"\n",
    "    \n",
    "    return bmi, category"
   ]
  },
  {
   "cell_type": "code",
   "execution_count": null,
   "id": "37",
   "metadata": {},
   "outputs": [],
   "source": [
    "gdf_pafq_final_ge[['bmi', 'bmi_category']] = gdf_pafq_final_ge.apply(\n",
    "    lambda x: calculate_bmi(x['mixed_weight'], x['mixed_height']), \n",
    "    axis=1, \n",
    "    result_type='expand'\n",
    ")"
   ]
  },
  {
   "cell_type": "code",
   "execution_count": null,
   "id": "38",
   "metadata": {},
   "outputs": [],
   "source": [
    "gdf_pafq_final_ge = gdf_pafq_final_ge[gdf_pafq_final_ge.bmi.isnull()==False]"
   ]
  },
  {
   "cell_type": "markdown",
   "id": "39",
   "metadata": {},
   "source": [
    "## Check NANs"
   ]
  },
  {
   "cell_type": "code",
   "execution_count": null,
   "id": "40",
   "metadata": {},
   "outputs": [],
   "source": [
    "gdf_pafq_final_ge.isna().sum().sort_values().tail(30).plot.bar()"
   ]
  },
  {
   "cell_type": "code",
   "execution_count": null,
   "id": "41",
   "metadata": {},
   "outputs": [],
   "source": [
    "gdf_pafq_final_ge.isna().sum().sort_values()"
   ]
  },
  {
   "cell_type": "code",
   "execution_count": null,
   "id": "42",
   "metadata": {},
   "outputs": [],
   "source": [
    "gdf_pafq_final_ge = gdf_pafq_final_ge.dropna()"
   ]
  },
  {
   "cell_type": "code",
   "execution_count": null,
   "id": "43",
   "metadata": {},
   "outputs": [],
   "source": [
    "gdf_pafq_final_ge.shape"
   ]
  },
  {
   "cell_type": "markdown",
   "id": "44",
   "metadata": {},
   "source": [
    "## Check duplicates"
   ]
  },
  {
   "cell_type": "code",
   "execution_count": null,
   "id": "45",
   "metadata": {},
   "outputs": [],
   "source": [
    "gdf_pafq_final_ge.codbar_new.nunique()"
   ]
  },
  {
   "cell_type": "code",
   "execution_count": null,
   "id": "46",
   "metadata": {},
   "outputs": [],
   "source": [
    "gdf_pafq_final_ge = gdf_pafq_final_ge.drop_duplicates(subset = ['codbar_new','period','appointment_year'], keep='first')"
   ]
  },
  {
   "cell_type": "markdown",
   "id": "47",
   "metadata": {},
   "source": [
    "### Add health/SES indicators"
   ]
  },
  {
   "cell_type": "code",
   "execution_count": null,
   "id": "48",
   "metadata": {},
   "outputs": [],
   "source": [
    "## Harmonize PAFQ and Health Q data\n",
    "gdf_pafq_final_ge['sexe'] = gdf_pafq_final_ge['sexe'].map({'Masculin':'M', 'Féminin':'F'})\n",
    "gdf_pafq_final_ge['appointment_year'] = gdf_pafq_final_ge['appointment_year'] - 1997\n",
    "gdf_pafq_final_ge['dtnumdoc'] = pd.to_datetime(gdf_pafq_final_ge['dtnumdoc'], format='mixed').dt.date\n",
    "gdf_pafq_final_ge['dtnaiss'] = pd.to_datetime(gdf_pafq_final_ge['dtnaiss'], format='mixed').dt.date\n",
    "gdf_pafq_final_ge['dtnumdoc_ym'] = pd.to_datetime(gdf_pafq_final_ge['dtnumdoc']).dt.strftime('%Y-%m')"
   ]
  },
  {
   "cell_type": "code",
   "execution_count": null,
   "id": "49",
   "metadata": {},
   "outputs": [],
   "source": [
    "df_qhealth = pd.read_csv('../data/20250109_health_questionnaire_1992_2024.csv').drop_duplicates()\n",
    "df_codbar_map = pd.read_csv('../data/cle_codage_BS.csv', sep=';')"
   ]
  },
  {
   "cell_type": "code",
   "execution_count": null,
   "id": "50",
   "metadata": {},
   "outputs": [],
   "source": [
    "df_codbar_map['sexe'] = df_codbar_map['sexe'].map({'Féminin':'F', 'Masculin':'M'})"
   ]
  },
  {
   "cell_type": "code",
   "execution_count": null,
   "id": "51",
   "metadata": {},
   "outputs": [],
   "source": [
    "df_codbar_map['codbar_new'] = df_codbar_map['codbar_new'].fillna(df_codbar_map['codbar'])"
   ]
  },
  {
   "cell_type": "code",
   "execution_count": null,
   "id": "52",
   "metadata": {},
   "outputs": [],
   "source": [
    "df_codbar_map['participant_identifier_sexe'] = df_codbar_map['participant_identifier'] + df_codbar_map['sexe']\n",
    "df_qhealth['participant_identifier_sexe'] = df_qhealth['participant_identifier'] + df_qhealth['sexe']"
   ]
  },
  {
   "cell_type": "code",
   "execution_count": null,
   "id": "53",
   "metadata": {},
   "outputs": [],
   "source": [
    "df_qhealth['codbar_new'] = df_qhealth['participant_identifier_sexe'].map(df_codbar_map.set_index('participant_identifier_sexe')['codbar_new'].to_dict())"
   ]
  },
  {
   "cell_type": "code",
   "execution_count": null,
   "id": "54",
   "metadata": {},
   "outputs": [],
   "source": [
    "df_qhealth['dtnumdoc'] = pd.to_datetime(df_qhealth['dtnumdoc']).dt.date\n",
    "df_qhealth['dtnaiss'] = pd.to_datetime(df_qhealth['birthdate']).dt.date\n",
    "df_qhealth['dtnumdoc_ym'] = pd.to_datetime(df_qhealth['dtnumdoc']).dt.strftime('%Y-%m')"
   ]
  },
  {
   "cell_type": "code",
   "execution_count": null,
   "id": "55",
   "metadata": {},
   "outputs": [],
   "source": [
    "df_qhealth['age_rounded'] = df_qhealth['age'].round(0)\n",
    "gdf_pafq_final_ge['age_rounded'] = gdf_pafq_final_ge['age'].round(0)"
   ]
  },
  {
   "cell_type": "code",
   "execution_count": null,
   "id": "56",
   "metadata": {},
   "outputs": [],
   "source": [
    "# codbar_matches = pd.merge(df_qhealth[['participant_identifier','dtnumdoc','dtnumdoc_ym','dtnaiss', 'age', 'age_rounded','sexe']], gdf_pafq_final_ge[['codbar_new','dtnumdoc','dtnumdoc_ym','dtnaiss', 'age', 'age_rounded','sexe']], on = ['dtnumdoc_ym','dtnaiss','age_rounded','sexe'])"
   ]
  },
  {
   "cell_type": "code",
   "execution_count": null,
   "id": "57",
   "metadata": {},
   "outputs": [],
   "source": [
    "gdf_pafq_final_ge_wses = pd.merge(gdf_pafq_final_ge, df_qhealth[['codbar_new','sexe','ctry_bth','smoking', 'former_smoker','self_rated_health','education','education_coded','employment_status','last_employment_status','income_grp']], on = ['codbar_new','sexe'], how='left').drop_duplicates()"
   ]
  },
  {
   "cell_type": "code",
   "execution_count": null,
   "id": "58",
   "metadata": {},
   "outputs": [],
   "source": [
    "gdf_pafq_final_ge_wses = gdf_pafq_final_ge_wses.drop_duplicates(subset = ['codbar_new','sexe'])"
   ]
  },
  {
   "cell_type": "markdown",
   "id": "59",
   "metadata": {},
   "source": [
    "### Education coded\n",
    "\n",
    "I noticed (Discussed with Shannon) that there are some mistakes in the coding of the education_coded column. This is aim to fix it."
   ]
  },
  {
   "cell_type": "code",
   "execution_count": null,
   "id": "60",
   "metadata": {},
   "outputs": [],
   "source": [
    "gdf_pafq_final_ge_wses.loc[(gdf_pafq_final_ge_wses.period != 'postpandemie')&(gdf_pafq_final_ge_wses.education == 8),'education_coded'] = 'Tertiaire'\n",
    "gdf_pafq_final_ge_wses.loc[(gdf_pafq_final_ge_wses.period == 'postpandemie')&(gdf_pafq_final_ge_wses.education == 3),'education_coded'] = 'Primaire'"
   ]
  },
  {
   "cell_type": "code",
   "execution_count": null,
   "id": "61",
   "metadata": {},
   "outputs": [],
   "source": [
    "gdf_pafq_final_ge_wses['education_coded'] = gdf_pafq_final_ge_wses['education_coded'].map({'Primaire': 'Primary',\n",
    "                                                                                           'Secondaire': 'Secondary',\n",
    "                                                                                           'Tertiaire': 'Tertiary',\n",
    "                                                                                           'Autre': 'Other'})"
   ]
  },
  {
   "cell_type": "code",
   "execution_count": null,
   "id": "62",
   "metadata": {},
   "outputs": [],
   "source": [
    "gdf_pafq_final_ge_wses['education_coded'].value_counts(dropna=False)"
   ]
  },
  {
   "cell_type": "code",
   "execution_count": null,
   "id": "63",
   "metadata": {},
   "outputs": [],
   "source": [
    "gdf_pafq_final_ge_wses = gdf_pafq_final_ge_wses.dropna(subset = ['education_coded'])"
   ]
  },
  {
   "cell_type": "markdown",
   "id": "64",
   "metadata": {},
   "source": [
    "### Smoking variable"
   ]
  },
  {
   "cell_type": "code",
   "execution_count": null,
   "id": "65",
   "metadata": {},
   "outputs": [],
   "source": [
    "gdf_pafq_final_ge_wses.loc[gdf_pafq_final_ge_wses.smoking == 1,'smoking_status'] = 'Active smoker'\n",
    "gdf_pafq_final_ge_wses.loc[(gdf_pafq_final_ge_wses.smoking == 0)&(gdf_pafq_final_ge_wses.former_smoker == 1),'smoking_status'] = 'Ex-smoker'\n",
    "gdf_pafq_final_ge_wses.loc[(gdf_pafq_final_ge_wses.smoking == 0)&(gdf_pafq_final_ge_wses.former_smoker == 1),'smoking_status'] = 'Ex-smoker'\n",
    "gdf_pafq_final_ge_wses.loc[(gdf_pafq_final_ge_wses.smoking == 0)&(gdf_pafq_final_ge_wses.former_smoker == 0),'smoking_status'] = 'Never-smoker'\n",
    "gdf_pafq_final_ge_wses.loc[(gdf_pafq_final_ge_wses.smoking == 0)&(gdf_pafq_final_ge_wses.former_smoker == 0),'smoking_status'] = 'Never-smoker'\n",
    "# gdf_pafq_final_ge_wses.loc[gdf_pafq_final_ge_wses.smoking_status.isnull(),'smoking_status'] = 'Unknown'"
   ]
  },
  {
   "cell_type": "code",
   "execution_count": null,
   "id": "66",
   "metadata": {},
   "outputs": [],
   "source": [
    "gdf_pafq_final_ge_wses.smoking_status.value_counts(dropna=False)"
   ]
  },
  {
   "cell_type": "code",
   "execution_count": null,
   "id": "67",
   "metadata": {},
   "outputs": [],
   "source": [
    "gdf_pafq_final_ge_wses = gdf_pafq_final_ge_wses.dropna(subset = ['smoking_status'])"
   ]
  },
  {
   "cell_type": "markdown",
   "id": "68",
   "metadata": {},
   "source": [
    "### Employement status variable"
   ]
  },
  {
   "cell_type": "code",
   "execution_count": null,
   "id": "69",
   "metadata": {},
   "outputs": [],
   "source": [
    "gdf_pafq_final_ge_wses['employment_coded'] = gdf_pafq_final_ge_wses['employment_status'].fillna(gdf_pafq_final_ge_wses['last_employment_status'])"
   ]
  },
  {
   "cell_type": "code",
   "execution_count": null,
   "id": "70",
   "metadata": {},
   "outputs": [],
   "source": [
    "gdf_pafq_final_ge_wses['employment_coded'] = gdf_pafq_final_ge_wses['employment_coded'].map({1: 'Non-manual manager',\n",
    "                                                2: 'Non-manual worker',\n",
    "                                                3: 'Manual self-employed worker',\n",
    "                                                4: 'Manual worker',\n",
    "                                                5: 'Housewife/Househusband'})\n",
    "# gdf_pafq_final_ge_wses['employment_coded'] = gdf_pafq_final_ge_wses['employment_coded'].fillna('Unknown')"
   ]
  },
  {
   "cell_type": "code",
   "execution_count": null,
   "id": "71",
   "metadata": {},
   "outputs": [],
   "source": [
    "gdf_pafq_final_ge_wses.employment_coded.value_counts(dropna=False)"
   ]
  },
  {
   "cell_type": "code",
   "execution_count": null,
   "id": "72",
   "metadata": {},
   "outputs": [],
   "source": [
    "gdf_pafq_final_ge_wses = gdf_pafq_final_ge_wses.dropna(subset = ['employment_coded'])"
   ]
  },
  {
   "cell_type": "markdown",
   "id": "73",
   "metadata": {},
   "source": [
    "### Self-rated health"
   ]
  },
  {
   "cell_type": "code",
   "execution_count": null,
   "id": "74",
   "metadata": {},
   "outputs": [],
   "source": [
    "gdf_pafq_final_ge_wses['self_rated_health'].value_counts(dropna=False)"
   ]
  },
  {
   "cell_type": "markdown",
   "id": "75",
   "metadata": {},
   "source": [
    "## Create final GDF"
   ]
  },
  {
   "cell_type": "code",
   "execution_count": null,
   "id": "76",
   "metadata": {},
   "outputs": [],
   "source": [
    "gdf_pafq_final_ge_wses = gpd.GeoDataFrame(gdf_pafq_final_ge_wses, crs=2056, geometry = gdf_pafq_final_ge_wses['geometry'])"
   ]
  },
  {
   "cell_type": "code",
   "execution_count": null,
   "id": "77",
   "metadata": {},
   "outputs": [],
   "source": [
    "gdf_pafq_final_ge_wses = gdf_pafq_final_ge_wses.drop_duplicates(subset = ['codbar_new','sexe','appointment_year'])"
   ]
  },
  {
   "cell_type": "code",
   "execution_count": null,
   "id": "78",
   "metadata": {},
   "outputs": [],
   "source": [
    "gdf_pafq_final_ge_wses = gdf_pafq_final_ge_wses[gdf_pafq_final_ge_wses.age > 19]"
   ]
  },
  {
   "cell_type": "markdown",
   "id": "79",
   "metadata": {},
   "source": [
    "## Spatially join PA and accessibility measures"
   ]
  },
  {
   "cell_type": "code",
   "execution_count": null,
   "id": "80",
   "metadata": {},
   "outputs": [],
   "source": [
    "gdf_pafq_final_ge_15min = gpd.sjoin_nearest(gdf_pafq_final_ge_wses, df_15min.to_crs(2056), how = 'left', distance_col = 'distance_h3')"
   ]
  },
  {
   "cell_type": "code",
   "execution_count": null,
   "id": "81",
   "metadata": {},
   "outputs": [],
   "source": [
    "gdf_pafq_final_ge_wses[gdf_pafq_final_ge_wses.codbar_new == '2011F0033']['geometry']"
   ]
  },
  {
   "cell_type": "code",
   "execution_count": null,
   "id": "82",
   "metadata": {},
   "outputs": [],
   "source": [
    "m = gdf_pafq_final_ge_15min[gdf_pafq_final_ge_15min.distance_h3 > 100][['geometry']].explore(color='red')\n",
    "df_15min[['geometry']].to_crs(2056).explore(m=m)"
   ]
  },
  {
   "cell_type": "code",
   "execution_count": null,
   "id": "83",
   "metadata": {},
   "outputs": [],
   "source": [
    "gdf_pafq_final_ge_15min = pyspace.add_random_noise(gdf_pafq_final_ge_15min, 'x', 'y')"
   ]
  },
  {
   "cell_type": "markdown",
   "id": "84",
   "metadata": {},
   "source": [
    "## E(S)DA "
   ]
  },
  {
   "cell_type": "code",
   "execution_count": null,
   "id": "85",
   "metadata": {},
   "outputs": [],
   "source": [
    "# distances = [100, 200, 400, 600, 800, 1000, 1200, 1400, 1600]\n",
    "distances = [1125]"
   ]
  },
  {
   "cell_type": "code",
   "execution_count": null,
   "id": "86",
   "metadata": {},
   "outputs": [],
   "source": [
    "# First calculate and add the distances as a column\n",
    "def add_nearest_neighbor_distance(gdf):\n",
    "    # Create coordinates array\n",
    "    coords = np.array(list(zip(gdf.geometry.x, gdf.geometry.y)))\n",
    "    \n",
    "    # Create KD-tree\n",
    "    tree = cKDTree(coords)\n",
    "    \n",
    "    # Find distances to 2 nearest neighbors (including self)\n",
    "    distances, _ = tree.query(coords, k=2)\n",
    "    \n",
    "    # Add the distances as a new column (second column has actual nearest neighbor)\n",
    "    gdf['nearest_neighbor_dist'] = distances[:, 1]\n",
    "    \n",
    "    return gdf\n",
    "\n",
    "# Add the distances\n",
    "gdf_pafq_final_ge_15min = add_nearest_neighbor_distance(gdf_pafq_final_ge_15min)"
   ]
  },
  {
   "cell_type": "code",
   "execution_count": null,
   "id": "87",
   "metadata": {},
   "outputs": [],
   "source": [
    "gdfs_distance = [gdf_pafq_final_ge_15min[gdf_pafq_final_ge_15min.nearest_neighbor_dist < dist] for dist in distances]"
   ]
  },
  {
   "cell_type": "code",
   "execution_count": null,
   "id": "88",
   "metadata": {},
   "outputs": [],
   "source": [
    "incremental_weights = [lps.weights.DistanceBand(cKDTree(get_points_array(_gdf.geometry)), dist) for _gdf, dist in zip(gdfs_distance, distances)]"
   ]
  },
  {
   "cell_type": "markdown",
   "id": "89",
   "metadata": {},
   "source": [
    "### Global Moran's I"
   ]
  },
  {
   "cell_type": "markdown",
   "id": "90",
   "metadata": {},
   "source": [
    "#### Sedentarity"
   ]
  },
  {
   "cell_type": "code",
   "execution_count": null,
   "id": "91",
   "metadata": {},
   "outputs": [],
   "source": [
    "# col = 'Sedentary, raw data, PAFQ (min/day)'\n",
    "# global_morans_I_seden = []\n",
    "# for _distance, _w, _gdf in zip(distances, incremental_weights, gdfs_distance):\n",
    "#     print(_distance)\n",
    "#     mi = esda.Moran(_gdf[col],  _w, permutations = 999)\n",
    "#     z_score, p_value = mi.z_sim, mi.p_z_sim\n",
    "#     mi_values = [_distance, z_score]\n",
    "#     global_morans_I_seden.append(mi_values)"
   ]
  },
  {
   "cell_type": "code",
   "execution_count": null,
   "id": "92",
   "metadata": {},
   "outputs": [],
   "source": [
    "def plot_incremental_spatial_autocorrelation(distances_zscores, \n",
    "                                           title=\"Incremental Spatial Autocorrelation\",\n",
    "                                           save_path=None,\n",
    "                                           figsize=(10, 6),\n",
    "                                           color='#2E86C1'):\n",
    "    \"\"\"\n",
    "    Create a line plot for incremental spatial autocorrelation analysis.\n",
    "    \n",
    "    Parameters:\n",
    "    -----------\n",
    "    distances_zscores : list of lists or numpy array\n",
    "        List containing [distance, z_score] pairs\n",
    "    title : str, optional\n",
    "        Title of the plot\n",
    "    save_path : str, optional\n",
    "        Path to save the figure. If None, figure is not saved\n",
    "    figsize : tuple, optional\n",
    "        Figure size in inches (width, height)\n",
    "    color : str, optional\n",
    "        Color of the line plot\n",
    "        \n",
    "    Returns:\n",
    "    --------\n",
    "    fig : matplotlib figure object\n",
    "    ax : matplotlib axes object\n",
    "    \"\"\"\n",
    "    \n",
    "    # Convert to DataFrame\n",
    "    df = pd.DataFrame(distances_zscores, columns=['Distance', 'Z-Score'])\n",
    "    \n",
    "    # Create the plot\n",
    "    fig, ax = plt.subplots(figsize=figsize)\n",
    "    sns.set_style(\"whitegrid\")\n",
    "    \n",
    "    # Main line plot\n",
    "    sns.lineplot(data=df, x='Distance', y='Z-Score', \n",
    "                marker='o',\n",
    "                markersize=8,\n",
    "                color=color,\n",
    "                ax=ax)\n",
    "    \n",
    "    # Add color coding for significant points\n",
    "    significant_points = df[df['Z-Score'] > 1.96]\n",
    "    ax.scatter(significant_points['Distance'], significant_points['Z-Score'],\n",
    "              color='red', s=100, label='Significant (p<0.05)')\n",
    "    \n",
    "    # Add the significance line\n",
    "    ax.axhline(y=1.96, color='r', linestyle='--', alpha=0.5, \n",
    "               label='95% Significance')\n",
    "    \n",
    "    # Customize the plot\n",
    "    ax.set_title(title, fontsize=12, pad=15)\n",
    "    ax.set_xlabel('Distance (meters)', fontsize=10)\n",
    "    ax.set_ylabel('Moran\\'s I Z-Score', fontsize=10)\n",
    "    \n",
    "    # Format x-axis to show distances in thousands (k)\n",
    "\n",
    "    # ax.xaxis.set_major_formatter(plt.FuncFormatter(format_func))\n",
    "    \n",
    "    # Add legend\n",
    "    ax.legend()\n",
    "    \n",
    "    # Tight layout\n",
    "    plt.tight_layout()\n",
    "    \n",
    "    # Save if path is provided\n",
    "    if save_path:\n",
    "        plt.savefig(results_folder/save_path, dpi=300, bbox_inches='tight')\n",
    "    \n",
    "    return fig, ax"
   ]
  },
  {
   "cell_type": "markdown",
   "id": "93",
   "metadata": {},
   "source": [
    "#### Physical activity levels"
   ]
  },
  {
   "cell_type": "markdown",
   "id": "94",
   "metadata": {},
   "source": [
    "#### Accessibility measures"
   ]
  },
  {
   "cell_type": "markdown",
   "id": "95",
   "metadata": {},
   "source": [
    "### Getis Ord Gi"
   ]
  },
  {
   "cell_type": "code",
   "execution_count": null,
   "id": "96",
   "metadata": {},
   "outputs": [],
   "source": [
    "gdf_1200 = gdfs_distance[0]\n",
    "w_1200 = incremental_weights[0]\n",
    "w_1200.transform = 'R'  # Row-standardize the weights"
   ]
  },
  {
   "cell_type": "markdown",
   "id": "97",
   "metadata": {},
   "source": [
    "#### Light PA"
   ]
  },
  {
   "cell_type": "code",
   "execution_count": null,
   "id": "98",
   "metadata": {},
   "outputs": [],
   "source": [
    "gdf_spatial = gdf_1200.copy()"
   ]
  },
  {
   "cell_type": "code",
   "execution_count": null,
   "id": "99",
   "metadata": {},
   "outputs": [],
   "source": [
    "col = 'Light PA, standardized data, PAFQ (min/day)'\n",
    "gdf_spatial[col] = gdf_spatial[col].astype('float64')\n",
    "getis_values = pyspace.compute_getis(gdf_spatial, col, w_1200, 999, transform_type='R', p_001=True)\n",
    "fig, ax = pyspace.plotGetisMap_ge(gdf_spatial,f'{col}_G_cl', markersize_s=3, markersize_l=5,p_001 = True, commune_name = False)\n",
    "plt.savefig(results_folder/'Getis_LightPA_std.png', dpi = 360)"
   ]
  },
  {
   "cell_type": "markdown",
   "id": "100",
   "metadata": {},
   "source": [
    "#### Moderate PA"
   ]
  },
  {
   "cell_type": "code",
   "execution_count": null,
   "id": "101",
   "metadata": {},
   "outputs": [],
   "source": [
    "col = 'Moderate PA, standardized data, PAFQ (min/day)'\n",
    "gdf_spatial[col] = gdf_spatial[col].astype('float64')\n",
    "getis_values = pyspace.compute_getis(gdf_spatial, col, w_1200, 999, transform_type='R', p_001=True)\n",
    "fig, ax = pyspace.plotGetisMap_ge(gdf_spatial,f'{col}_G_cl', markersize_s=3, markersize_l=5,p_001 = True, commune_name = False)\n",
    "plt.savefig(results_folder/'Getis_ModeratePA_std.png', dpi = 360)"
   ]
  },
  {
   "cell_type": "markdown",
   "id": "102",
   "metadata": {},
   "source": [
    "#### Vigorous PA"
   ]
  },
  {
   "cell_type": "code",
   "execution_count": null,
   "id": "103",
   "metadata": {},
   "outputs": [],
   "source": [
    "col = 'Vigorous PA, standardized data, PAFQ (min/day)'\n",
    "gdf_spatial[col] = gdf_spatial[col].astype('float64')\n",
    "getis_values = pyspace.compute_getis(gdf_spatial, col, w_1200, 999, transform_type='R', p_001=True)\n",
    "fig, ax = pyspace.plotGetisMap_ge(gdf_spatial,f'{col}_G_cl', markersize_s=3, markersize_l=5,p_001 = True, commune_name = False)\n",
    "plt.savefig(results_folder/'Getis_VigorousPA_std.png', dpi = 360)"
   ]
  },
  {
   "cell_type": "markdown",
   "id": "104",
   "metadata": {},
   "source": [
    "#### Sedentarity"
   ]
  },
  {
   "cell_type": "code",
   "execution_count": null,
   "id": "105",
   "metadata": {},
   "outputs": [],
   "source": [
    "col = 'Sedentary, standardized data, PAFQ (min/day)'\n",
    "gdf_spatial[col] = gdf_spatial[col].astype('float64')\n",
    "getis_values = pyspace.compute_getis(gdf_spatial, col, w_1200, 999, transform_type='R', p_001=True)\n",
    "fig, ax = pyspace.plotGetisMap_ge(gdf_spatial,f'{col}_G_cl', markersize_s=3, markersize_l=5,p_001 = True, commune_name = False)\n",
    "plt.savefig(results_folder/'Getis_Sedentary_std.png', dpi = 360)"
   ]
  },
  {
   "cell_type": "code",
   "execution_count": null,
   "id": "106",
   "metadata": {},
   "outputs": [],
   "source": [
    "gdf_spatial.groupby(['Sedentary, standardized data, PAFQ (min/day)_G_cl'])['Work, sedentary, standardized (min/day)'].mean()"
   ]
  },
  {
   "cell_type": "code",
   "execution_count": null,
   "id": "107",
   "metadata": {},
   "outputs": [],
   "source": [
    "gdf_spatial[f'{col}_lag'] = lps.weights.lag_spatial(w_1200, gdf_spatial[col])"
   ]
  },
  {
   "cell_type": "code",
   "execution_count": null,
   "id": "108",
   "metadata": {},
   "outputs": [],
   "source": [
    "pyspace.plot_getis_by_class(gdf_spatial, f'{col}_G_cl', f'{col}_lag', label='Sedentarity', p_001 = False)"
   ]
  },
  {
   "cell_type": "code",
   "execution_count": null,
   "id": "109",
   "metadata": {},
   "outputs": [],
   "source": [
    "col = 'Total adjusted energy kcal/week (no sleep)'\n",
    "gdf_spatial[col] = gdf_spatial[col].astype('float64')\n",
    "getis_values = pyspace.compute_getis(gdf_spatial, col, w_1200, 999, transform_type='R', p_001=True)\n",
    "fig, ax = pyspace.plotGetisMap_ge(gdf_spatial,f'{col}_G_cl', markersize_s=3, markersize_l=5,p_001 = True, commune_name = False)"
   ]
  },
  {
   "cell_type": "markdown",
   "id": "110",
   "metadata": {},
   "source": [
    "#### Home sedentarity"
   ]
  },
  {
   "cell_type": "code",
   "execution_count": null,
   "id": "111",
   "metadata": {},
   "outputs": [],
   "source": [
    "col = 'Home, sedentary, standardized (min/day)'\n",
    "gdf_spatial[col] = gdf_spatial[col].astype('float64')\n",
    "getis_values = pyspace.compute_getis(gdf_spatial, col, w_1200, 999, transform_type='R', p_001=True)\n",
    "fig, ax = pyspace.plotGetisMap_ge(gdf_spatial,f'{col}_G_cl', markersize_s=3, markersize_l=5,p_001 = True, commune_name = False)\n",
    "plt.savefig(results_folder/'Getis_HomeSedentary_std.png', dpi = 360)"
   ]
  },
  {
   "cell_type": "markdown",
   "id": "112",
   "metadata": {},
   "source": [
    "### Sport, moderate intensity"
   ]
  },
  {
   "cell_type": "code",
   "execution_count": null,
   "id": "113",
   "metadata": {},
   "outputs": [],
   "source": [
    "col = 'Sport, moderate intensity, standardized (min/day)'\n",
    "gdf_spatial[col] = gdf_spatial[col].astype('float64')\n",
    "getis_values = pyspace.compute_getis(gdf_spatial, col, w_1200, 999, transform_type='R', p_001=True)\n",
    "fig, ax = pyspace.plotGetisMap_ge(gdf_spatial,f'{col}_G_cl', markersize_s=3, markersize_l=5,p_001 = True, commune_name = False)\n",
    "plt.savefig(results_folder/'Getis_SportModerate_std.png', dpi = 360)"
   ]
  },
  {
   "cell_type": "markdown",
   "id": "114",
   "metadata": {},
   "source": [
    "## Physical activity"
   ]
  },
  {
   "cell_type": "code",
   "execution_count": null,
   "id": "115",
   "metadata": {},
   "outputs": [],
   "source": [
    "gdf_1200['Total PA, standardized data, PAFQ (min/day)'] = gdf_1200[['Light PA, standardized data, PAFQ (min/day)','Moderate PA, standardized data, PAFQ (min/day)','Vigorous PA, standardized data, PAFQ (min/day)']].sum(axis=1)"
   ]
  },
  {
   "cell_type": "code",
   "execution_count": null,
   "id": "116",
   "metadata": {},
   "outputs": [],
   "source": [
    "gdf_1200_mob_nonull = gdf_1200[gdf_1200['Mobility (commute & personal time), standardized (min/day)'] > 0]"
   ]
  },
  {
   "cell_type": "markdown",
   "id": "117",
   "metadata": {},
   "source": [
    "## Heatmap"
   ]
  },
  {
   "cell_type": "code",
   "execution_count": null,
   "id": "118",
   "metadata": {},
   "outputs": [],
   "source": [
    "gdf_1200_final = pd.concat([gdf_1200, \n",
    "                      pd.get_dummies(gdf_1200.sexe, prefix='SEX').astype(int),\n",
    "                      pd.get_dummies(gdf_1200.bmi_category, prefix='BMI').astype(int),    \n",
    "                      pd.get_dummies(gdf_1200.education_coded, prefix='EDUC').astype(int),    \n",
    "                      pd.get_dummies(gdf_1200.employment_coded, prefix='JOB').astype(int),    \n",
    "                      pd.get_dummies(gdf_1200.smoking_status, prefix='SMOKING').astype(int),    \n",
    "                      pd.get_dummies(gdf_1200.season, prefix='SEASON').astype(int),               \n",
    "                      pd.get_dummies(gdf_1200.age_group.str.replace(\",\",'').str.replace(\"'\",'').str.replace(\"/\",'_').str.replace(' ','_'), prefix='AGE').astype(int)], axis = 1)"
   ]
  },
  {
   "cell_type": "code",
   "execution_count": null,
   "id": "119",
   "metadata": {},
   "outputs": [],
   "source": [
    "correlation_matrix = gdf_1200_final[['Mobility (commute & personal time), standardized (min/day)',\n",
    "                                     'Home, sedentary, standardized (min/day)',\n",
    "                                     'time_to_20th_physical',\n",
    "                                     'time_to_20th_transport',\n",
    "                                     'time_to_20th_outdoor',\n",
    "                                     'overall_15min_city_proximity_time',\n",
    "                                     'overall_15min_city_pa_proximity_time']].corr().round(2)"
   ]
  },
  {
   "cell_type": "code",
   "execution_count": null,
   "id": "120",
   "metadata": {},
   "outputs": [],
   "source": [
    "sns.heatmap(correlation_matrix, annot=True, cmap='coolwarm', center=0)"
   ]
  },
  {
   "cell_type": "markdown",
   "id": "121",
   "metadata": {},
   "source": [
    "### MVPA"
   ]
  },
  {
   "cell_type": "code",
   "execution_count": null,
   "id": "122",
   "metadata": {},
   "outputs": [],
   "source": [
    "gdf_1200_final['Total adjusted energy kcal/week (no sleep)'].plot.hist(bins=50)"
   ]
  },
  {
   "cell_type": "code",
   "execution_count": null,
   "id": "123",
   "metadata": {},
   "outputs": [],
   "source": [
    "np.log(gdf_1200_final[gdf_1200_final['Mobility (commute & personal time), standardized (min/day)'] > 0]['Mobility (commute & personal time), standardized (min/day)']).std()"
   ]
  },
  {
   "cell_type": "code",
   "execution_count": null,
   "id": "124",
   "metadata": {},
   "outputs": [],
   "source": [
    "gdf_1200_final['SB_cat'] = pd.qcut(gdf_1200_final['Sedentary, standardized data, PAFQ (min/day)'], q=3, labels = ['Low','Moderate','High'])\n",
    "gdf_1200_final['LPA_cat'] = pd.qcut(gdf_1200_final['Light PA, standardized data, PAFQ (min/day)'], q=3, labels = ['Low','Moderate','High'])\n",
    "gdf_1200_final['MPA_cat'] = pd.qcut(gdf_1200_final['Moderate PA, standardized data, PAFQ (min/day)'], q=3, labels = ['Low','Moderate','High'])\n",
    "# gdf_1200_final['VPA_cat'] = pd.qcut(gdf_1200_final['Vigorous PA, standardized data, PAFQ (min/day)'], q=3, labels = ['Low','Moderate','High'])"
   ]
  },
  {
   "cell_type": "code",
   "execution_count": null,
   "id": "125",
   "metadata": {},
   "outputs": [],
   "source": [
    "gdf_1200_final['MVPA'] = gdf_1200_final['Moderate PA, standardized data, PAFQ (min/day)']+gdf_1200_final['Vigorous PA, standardized data, PAFQ (min/day)']"
   ]
  },
  {
   "cell_type": "markdown",
   "id": "126",
   "metadata": {},
   "source": [
    "## Save final dataset"
   ]
  },
  {
   "cell_type": "code",
   "execution_count": null,
   "id": "127",
   "metadata": {},
   "outputs": [],
   "source": [
    "gdf_1200_final['E'], gdf_1200_final['N'] = gdf_1200_final['geometry'].x, gdf_1200_final['geometry'].y"
   ]
  },
  {
   "cell_type": "code",
   "execution_count": null,
   "id": "128",
   "metadata": {},
   "outputs": [],
   "source": [
    "gdf_1200_final['use_active_mobility_binary'] = 0\n",
    "gdf_1200_final.loc[gdf_1200_final['Mobility (commute & personal time), standardized (min/day)'] > 0, 'use_active_mobility_binary'] = 1"
   ]
  },
  {
   "cell_type": "code",
   "execution_count": null,
   "id": "129",
   "metadata": {},
   "outputs": [],
   "source": [
    "gdf_1200_final['leisure_mvpa_binary'] = 0\n",
    "gdf_1200_final.loc[gdf_1200_final['Leisure-time MVPA, standardized (min/day)'] > 0, 'leisure_mvpa_binary'] = 1"
   ]
  },
  {
   "cell_type": "code",
   "execution_count": null,
   "id": "130",
   "metadata": {},
   "outputs": [],
   "source": [
    "gdf_1200_final[['dtnumdoc','dtnaiss']] = gdf_1200_final[['dtnumdoc','dtnaiss']].astype('string')"
   ]
  },
  {
   "cell_type": "code",
   "execution_count": null,
   "id": "131",
   "metadata": {},
   "outputs": [],
   "source": [
    "gdf_1200_final['Mobility (commute & personal time), standardized (min/day)_eps'] = gdf_1200_final['Mobility (commute & personal time), standardized (min/day)']+0.01"
   ]
  },
  {
   "cell_type": "code",
   "execution_count": null,
   "id": "132",
   "metadata": {},
   "outputs": [],
   "source": [
    "gdf_1200_final['overall_15min_city_proximity_time_q4'] = 'Q'+pd.qcut(gdf_1200_final['overall_15min_city_proximity_time'], q=4, labels=False).astype('string') +' - '+ pd.qcut(gdf_1200_final['overall_15min_city_proximity_time'], q=4, precision=1).astype('string')"
   ]
  },
  {
   "cell_type": "code",
   "execution_count": null,
   "id": "133",
   "metadata": {},
   "outputs": [],
   "source": [
    "gdf_1200_final['overall_15min_city_proximity_time_cat'] = pd.cut(gdf_1200_final['overall_15min_city_proximity_time'], bins = [0, 5, 10, 15, 20, 25, 30, 40, 1000], labels = [\"<5 min\", \"5-10 min\", '10-15 min', \"15-20min\",\"20-25 min\", \"25-30 min\", \"30-40 min\", \">40 min\"])\n",
    "gdf_1200_final['overall_15min_city_proximity_time_cat_4'] = pd.cut(gdf_1200_final['overall_15min_city_proximity_time'], bins = [0, 10, 15, 30, 1000], labels = [\"<10 min\", '10-15 min', \"15-30 min\", \">30 min\"])"
   ]
  },
  {
   "cell_type": "code",
   "execution_count": null,
   "id": "134",
   "metadata": {},
   "outputs": [],
   "source": [
    "gdf_1200_final_mobility = gdf_1200_final[gdf_1200_final['Mobility (commute & personal time), standardized (min/day)']>0]"
   ]
  },
  {
   "cell_type": "code",
   "execution_count": null,
   "id": "135",
   "metadata": {},
   "outputs": [],
   "source": [
    "gdf_1200_final['MVPA_cat'] = pd.qcut(gdf_1200_final['MVPA'], q=4, labels = ['Low','Moderate','High','Very high'])\n",
    "gdf_1200_final_mobility['active_mobility_cat'] = pd.qcut(gdf_1200_final_mobility['Mobility (commute & personal time), standardized (min/day)'], q=4, labels = ['Low','Moderate','High','Very high'])"
   ]
  },
  {
   "cell_type": "code",
   "execution_count": null,
   "id": "136",
   "metadata": {},
   "outputs": [],
   "source": [
    "gdf_1200_final.to_csv('../data/gdf_final_1200.csv', index=False)\n",
    "# gdf_1200_final.to_file('../data/15min_city/gdf_final_1200.gpkg')"
   ]
  },
  {
   "cell_type": "markdown",
   "id": "137",
   "metadata": {},
   "source": [
    "## 15-minuteness"
   ]
  },
  {
   "cell_type": "code",
   "execution_count": null,
   "id": "138",
   "metadata": {},
   "outputs": [],
   "source": [
    "gdf_1200_final['dummy'] = 1"
   ]
  },
  {
   "cell_type": "code",
   "execution_count": null,
   "id": "139",
   "metadata": {},
   "outputs": [],
   "source": [
    "def create_cumulative_accessibility_plot(df):\n",
    "    # Calculate cumulative percentage\n",
    "    total_pop = df['dummy'].sum()\n",
    "    sorted_data = df.sort_values('overall_15min_city_proximity_time')\n",
    "    cumulative_pop = np.cumsum(sorted_data['dummy']) / total_pop * 100\n",
    "\n",
    "    # Create the plot\n",
    "    plt.figure(figsize=(5, 5))\n",
    "    \n",
    "    # Plot the cumulative distribution\n",
    "    plt.plot(sorted_data['overall_15min_city_proximity_time'], cumulative_pop, \n",
    "            linewidth=2, label='Canton of Geneva')\n",
    "    \n",
    "    # Add vertical line at 15 minutes\n",
    "    plt.axvline(x=15, color='gray', linestyle='--', alpha=0.5)\n",
    "    \n",
    "    # Customize the plot\n",
    "    plt.xlabel('Proximity time PT [min]')\n",
    "    plt.ylabel('Cumulative population % below time')\n",
    "    plt.ylim(0, 100)\n",
    "    plt.grid(True, alpha=0.3)\n",
    "    plt.legend()\n",
    "    \n",
    "    # Improve layout\n",
    "    plt.tight_layout()\n",
    "    \n",
    "    return plt\n",
    "\n",
    "# Create and display the plot\n",
    "plot = create_cumulative_accessibility_plot(gdf_1200_final)\n",
    "plt.savefig('../results/15minutecity_cumul.png', dpi=360, bbox_inches='tight')"
   ]
  },
  {
   "cell_type": "code",
   "execution_count": null,
   "id": "140",
   "metadata": {},
   "outputs": [],
   "source": [
    "def create_multiple_cumulative_accessibility_plots(df):\n",
    "    # Identify columns with 'time_to_20th' in their name\n",
    "    time_columns = [col for col in df.columns if 'time_to_20th' in col]\n",
    "    \n",
    "    if not time_columns:\n",
    "        print(\"No columns with 'time_to_20th' substring found in the dataframe\")\n",
    "        return None\n",
    "    \n",
    "    # Calculate total population\n",
    "    total_pop = df['dummy'].sum()\n",
    "    \n",
    "    # Create the plot\n",
    "    plt.figure(figsize=(12, 8))\n",
    "    \n",
    "    # Use tab10 categorical colormap for the different lines\n",
    "    cmap = plt.cm.tab10\n",
    "    colors = [cmap(i % 10) for i in range(len(time_columns))]\n",
    "    \n",
    "    # For each column, calculate and plot cumulative distribution\n",
    "    for i, col in enumerate(sorted(time_columns)):\n",
    "        # Create a copy of the dataframe sorted by this specific column\n",
    "        sorted_data = df.sort_values(col)\n",
    "        \n",
    "        # Calculate cumulative percentage for this column\n",
    "        cumulative_pop = np.cumsum(sorted_data['dummy']) / total_pop * 100\n",
    "        \n",
    "        # Get a nice label from the column name - remove 'time_to_20th_' and capitalize\n",
    "        label = col.replace('time_to_20th_', '').replace('_', ' ').title()\n",
    "        \n",
    "        # Plot the cumulative distribution for this column\n",
    "        plt.plot(sorted_data[col], cumulative_pop, linewidth=1.8, label=label, color=colors[i])\n",
    "    \n",
    "    # Add the overall proximity time as a black, thicker line\n",
    "    if 'overall_15min_city_proximity_time' in df.columns:\n",
    "        # Sort data by the overall proximity time\n",
    "        sorted_overall = df.sort_values('overall_15min_city_proximity_time')\n",
    "        \n",
    "        # Calculate cumulative percentage\n",
    "        cumulative_overall = np.cumsum(sorted_overall['dummy']) / total_pop * 100\n",
    "        \n",
    "        # Plot with thicker, black line - add as the last item so it's on top\n",
    "        plt.plot(sorted_overall['overall_15min_city_proximity_time'], cumulative_overall, \n",
    "                linewidth=2.5, color='black', label='All categories combined')\n",
    "        \n",
    "        # Calculate percentage at 15 minutes\n",
    "        y_at_15min = np.interp(15, sorted_overall['overall_15min_city_proximity_time'], cumulative_overall)\n",
    "        \n",
    "        # Add a marker at the 15-minute threshold point for the overall line\n",
    "        plt.plot(15, y_at_15min, 'ko', markersize=7)\n",
    "        \n",
    "        # Add text annotation for the percentage\n",
    "        plt.text(15.9, y_at_15min + 2, f'{y_at_15min:.1f}%', fontsize=10, fontweight='bold')\n",
    "    \n",
    "    # Add vertical line at 15 minutes\n",
    "    plt.axvline(x=15, color='gray', linestyle='--', alpha=0.7, label='15-min threshold')\n",
    "    \n",
    "    # Customize the plot\n",
    "    plt.xlabel('Proximity time [min]')\n",
    "    plt.ylabel('Cumulative population (%) below time')\n",
    "    plt.ylim(0, 100)\n",
    "    plt.xlim(0, 60)  # Limit to 60 minutes\n",
    "    plt.grid(True, alpha=0.3)\n",
    "    \n",
    "    # Add a legend with smaller font and outside the plot area\n",
    "    plt.legend(bbox_to_anchor=(1.05, 1), loc='upper left', fontsize='small')\n",
    "    \n",
    "    # Add title\n",
    "    # plt.title('Cumulative Accessibility by Amenity Type')\n",
    "    \n",
    "    # Improve layout with extended right margin for legend\n",
    "    plt.tight_layout(rect=[0, 0, 0.75, 1])\n",
    "    \n",
    "    return plt\n",
    "\n",
    "# Also include original function as an alternative\n",
    "def create_overall_cumulative_accessibility_plot(df, proximity_col='overall_15min_city_proximity_time'):\n",
    "    # Calculate cumulative percentage\n",
    "    total_pop = df['dummy'].sum()\n",
    "    sorted_data = df.sort_values(proximity_col)\n",
    "    cumulative_pop = np.cumsum(sorted_data['dummy']) / total_pop * 100\n",
    "    \n",
    "    # Create the plot\n",
    "    plt.figure(figsize=(6, 6))\n",
    "    \n",
    "    # Plot the cumulative distribution\n",
    "    plt.plot(sorted_data[proximity_col], cumulative_pop, \n",
    "            linewidth=2.5, color='darkblue', label='Canton of Geneva')\n",
    "    \n",
    "    # Add vertical line at 15 minutes\n",
    "    plt.axvline(x=15, color='red', linestyle='--', alpha=0.7, label='15-min threshold')\n",
    "    \n",
    "    # Add horizontal line at the percentage with access within 15 minutes\n",
    "    y_at_15min = np.interp(15, sorted_data[proximity_col], cumulative_pop)\n",
    "    plt.axhline(y=y_at_15min, color='gray', linestyle=':', alpha=0.7)\n",
    "    \n",
    "    # Mark the intersection point\n",
    "    plt.plot(15, y_at_15min, 'ro', markersize=6)\n",
    "    \n",
    "    # Add text annotation for the percentage\n",
    "    plt.text(15.5, y_at_15min + 2, f'{y_at_15min:.1f}%', fontsize=10, color='red')\n",
    "    \n",
    "    # Customize the plot\n",
    "    plt.xlabel('Proximity time PT [min]')\n",
    "    plt.ylabel('Cumulative population (%) below time')\n",
    "    plt.ylim(0, 100)\n",
    "    plt.xlim(0,60)\n",
    "    plt.grid(True, alpha=0.3)\n",
    "    plt.legend()\n",
    "    \n",
    "    # Improve layout\n",
    "    plt.tight_layout()\n",
    "    \n",
    "    return plt\n",
    "\n",
    "# Example usage:\n",
    "plot = create_multiple_cumulative_accessibility_plots(gdf_1200_final)\n",
    "plt.savefig('../results/15minutecity_multi_cumul.png', dpi=360, bbox_inches='tight')"
   ]
  },
  {
   "cell_type": "code",
   "execution_count": null,
   "id": "141",
   "metadata": {},
   "outputs": [],
   "source": [
    "def create_stratified_cumulative_plot(df):\n",
    "    plt.figure(figsize=(5, 5))\n",
    "    \n",
    "    # Define education levels and corresponding colors\n",
    "    education_levels = ['Low', 'Moderate', 'High']\n",
    "    colors = ['#1f77b4', '#ff7f0e', '#2ca02c']  # Blue, Orange, Green\n",
    "    \n",
    "    # Create curve for each education level\n",
    "    for education, color in zip(education_levels, colors):\n",
    "        # Filter data for current education level\n",
    "        edu_data = df[df['LPA_cat'] == education]\n",
    "        \n",
    "        # Calculate cumulative percentage\n",
    "        total_pop = edu_data['dummy'].sum()\n",
    "        sorted_data = edu_data.sort_values('overall_15min_city_proximity_time')\n",
    "        cumulative_pop = np.cumsum(sorted_data['dummy']) / total_pop * 100\n",
    "        \n",
    "        # Plot the cumulative distribution\n",
    "        plt.plot(sorted_data['overall_15min_city_proximity_time'], cumulative_pop, \n",
    "                linewidth=2, label=education, color=color)\n",
    "    \n",
    "    # Add vertical line at 15 minutes\n",
    "    plt.axvline(x=15, color='gray', linestyle='--', alpha=0.5)\n",
    "    \n",
    "    # Customize the plot\n",
    "    plt.xlabel('Proximity time PT [min]')\n",
    "    plt.ylabel('Cumulative population % below time')\n",
    "    plt.ylim(0, 100)\n",
    "    plt.grid(True, alpha=0.3)\n",
    "    plt.legend()\n",
    "    plt.tight_layout()\n",
    "    \n",
    "    return plt\n",
    "\n",
    "# Create and display the plot\n",
    "plot = create_stratified_cumulative_plot(gdf_1200_final)\n",
    "plot.show()"
   ]
  },
  {
   "cell_type": "code",
   "execution_count": null,
   "id": "142",
   "metadata": {},
   "outputs": [],
   "source": [
    "def create_stratified_cumulative_plot(df, col, levels, label, pt_col):\n",
    "    plt.figure(figsize=(6, 6))\n",
    "        \n",
    "    # Create a nice color palette (blues to purples with good distinction)\n",
    "    # Using a custom colormap for better distinction between groups\n",
    "    colors = ['#eff3ff', '#c6dbef', '#9ecae1', '#6baed6', '#3182bd', '#08519c']\n",
    "    \n",
    "    # Plot for each income level\n",
    "    for level, color in zip(levels, colors):\n",
    "        # Filter data for current income level\n",
    "        _data = df[df[col] == level]\n",
    "        \n",
    "        # If there's data for this income level\n",
    "        if not _data.empty:\n",
    "            # Calculate cumulative percentage\n",
    "            total_pop = _data['dummy'].sum()\n",
    "            sorted_data = _data.sort_values(pt_col)\n",
    "            cumulative_pop = np.cumsum(sorted_data['dummy']) / total_pop * 100\n",
    "            \n",
    "            # Plot the cumulative distribution\n",
    "            if level == 'Refus':\n",
    "                plt.plot(sorted_data[pt_col], cumulative_pop, \n",
    "                    linewidth=2.5, label=level, color=color, alpha = 0.3)\n",
    "            else :\n",
    "                plt.plot(sorted_data[pt_col], cumulative_pop, \n",
    "                    linewidth=2.5, label=level, color=color)\n",
    "    \n",
    "    # Add vertical line at 15 minutes\n",
    "    plt.axvline(x=15, color='gray', linestyle='--', alpha=0.7, label='15 min threshold')\n",
    "    \n",
    "    # Customize the plot\n",
    "    plt.xlabel('Proximity time PT [min]', fontsize=12)\n",
    "    plt.ylabel('Cumulative population % below time', fontsize=12)\n",
    "    plt.xlim(0, 60)  # Assuming max proximity time is 60 min as in original graph\n",
    "    plt.ylim(0, 100)\n",
    "    plt.grid(True, alpha=0.3)\n",
    "    \n",
    "    # Improve legend\n",
    "    plt.legend(title=label, title_fontsize=12, fontsize=10, \n",
    "               loc='lower right', framealpha=0.9)\n",
    "    \n",
    "    # Add title\n",
    "    plt.title(f'Cumulative Distribution of Proximity Time by {label}', fontsize=14)\n",
    "    \n",
    "    plt.tight_layout()\n",
    "    \n",
    "    return plt"
   ]
  },
  {
   "cell_type": "code",
   "execution_count": null,
   "id": "143",
   "metadata": {},
   "outputs": [],
   "source": [
    "# Create and display the plot\n",
    "levels = ['Faible', 'Modéré faible', 'Modéré élevé', 'Elevé']\n",
    "col = 'income_grp'\n",
    "label = 'Income level'\n",
    "plot = create_stratified_cumulative_plot(gdf_1200_final, col, levels, label, 'time_to_20th_education')\n",
    "plot.show()"
   ]
  },
  {
   "cell_type": "code",
   "execution_count": null,
   "id": "144",
   "metadata": {},
   "outputs": [],
   "source": [
    "# Create and display the plot\n",
    "levels = ['Low','Moderate','High','Very high']\n",
    "col = 'MVPA_cat'\n",
    "label = 'MVPA level'\n",
    "plot = create_stratified_cumulative_plot(gdf_1200_final, col, levels, label, 'overall_15min_city_proximity_time')\n",
    "plot.show()"
   ]
  },
  {
   "cell_type": "markdown",
   "id": "145",
   "metadata": {},
   "source": [
    "### Normality check"
   ]
  },
  {
   "cell_type": "code",
   "execution_count": null,
   "id": "146",
   "metadata": {},
   "outputs": [],
   "source": [
    "gdf_1200_final['Mobility (commute & personal time), standardized (min/day)']"
   ]
  },
  {
   "cell_type": "code",
   "execution_count": null,
   "id": "147",
   "metadata": {},
   "outputs": [],
   "source": [
    "def check_normality(data_series):\n",
    "    # Shapiro-Wilk test\n",
    "    shapiro_stat, shapiro_p = stats.shapiro(data_series)\n",
    "    \n",
    "    # D'Agostino-Pearson test\n",
    "    dagostino_stat, dagostino_p = stats.normaltest(data_series)\n",
    "    \n",
    "    print(\"Shapiro-Wilk test:\")\n",
    "    print(f\"Statistic: {shapiro_stat:.4f}\")\n",
    "    print(f\"p-value: {shapiro_p:.4f}\")\n",
    "    print(\"\\nD'Agostino-Pearson test:\")\n",
    "    print(f\"Statistic: {dagostino_stat:.4f}\")\n",
    "    print(f\"p-value: {dagostino_p:.4f}\")\n",
    "    \n",
    "    # Visual inspection\n",
    "    fig, (ax1, ax2) = plt.subplots(1, 2, figsize=(12, 4))\n",
    "    \n",
    "    # Histogram\n",
    "    sns.histplot(data_series, kde=True, ax=ax1)\n",
    "    ax1.set_title('Distribution with KDE')\n",
    "    \n",
    "    # Q-Q plot\n",
    "    stats.probplot(data_series, dist=\"norm\", plot=ax2)\n",
    "    ax2.set_title('Q-Q Plot')\n",
    "    \n",
    "    plt.tight_layout()\n",
    "    plt.savefig(results_folder/'normality_seden_std.png', dpi=120)\n",
    "\n",
    "# Usage example:\n",
    "check_normality(gdf_1200_final['Leisure-time MVPA, standardized (min/day)'])"
   ]
  },
  {
   "cell_type": "code",
   "execution_count": null,
   "id": "148",
   "metadata": {},
   "outputs": [],
   "source": [
    "check_normality(gdf_1200_final['Mobility (commute & personal time), standardized (min/day)'])"
   ]
  }
 ],
 "metadata": {
  "kernelspec": {
   "display_name": "Python 3.11",
   "language": "python",
   "name": "py311"
  },
  "language_info": {
   "codemirror_mode": {
    "name": "ipython",
    "version": 3
   },
   "file_extension": ".py",
   "mimetype": "text/x-python",
   "name": "python",
   "nbconvert_exporter": "python",
   "pygments_lexer": "ipython3",
   "version": "3.11.12"
  }
 },
 "nbformat": 4,
 "nbformat_minor": 5
}
